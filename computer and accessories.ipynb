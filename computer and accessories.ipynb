{
 "cells": [
  {
   "cell_type": "code",
   "execution_count": 16,
   "metadata": {},
   "outputs": [],
   "source": [
    "from selenium import webdriver\n",
    "from webdriver_manager.chrome import ChromeDriverManager\n",
    "import time\n",
    "import pandas as pd"
   ]
  },
  {
   "cell_type": "code",
   "execution_count": 1,
   "metadata": {},
   "outputs": [],
   "source": [
    "import os\n",
    "os.chdir(\"D:\\\\ankit gupta\\\\New folder\\\\amazon.inbranded data\\\\computer tplinks\")"
   ]
  },
  {
   "cell_type": "code",
   "execution_count": 4,
   "metadata": {},
   "outputs": [],
   "source": [
    "driver = webdriver.Chrome(\"D:\\\\ankit gupta\\\\chromedriver\")"
   ]
  },
  {
   "cell_type": "code",
   "execution_count": 12,
   "metadata": {},
   "outputs": [],
   "source": [
    "yaya='/html/body/div[1]/div[3]/div[2]/div/div/div/div[1]/div/table/tbody/tr[{}]/td[1]'\n",
    "gaga=\"/html/body/div[1]/div[3]/div[2]/div/div/div/div[1]/div/table/tbody/tr[{}]/td[2]\"\n",
    "tata=\"/html/body/div[1]/div[3]/div[2]/div/div/div/div[1]/div/table/tbody/tr[{}]/td[4]\"\n",
    "company=[]\n",
    "number=[]\n",
    "add=[]\n",
    "for i in range (1,64):\n",
    "    ank=yaya.format(i)\n",
    "    try:  \n",
    "        result1=driver.find_element_by_xpath(ank).text\n",
    "        company.append(result1)\n",
    "    except:\n",
    "        pass\n",
    "for i in range (1,64):\n",
    "    ank1=gaga.format(i)\n",
    "    try:  \n",
    "        result2=driver.find_element_by_xpath(ank1).text\n",
    "        number.append(result2)\n",
    "    except:\n",
    "        pass\n",
    "for i in range (1,64):\n",
    "    ank2=tata.format(i)\n",
    "    try:  \n",
    "        result3=driver.find_element_by_xpath(ank2).text\n",
    "        add.append(result3)\n",
    "    except:\n",
    "        pass    \n",
    "        \n",
    "    "
   ]
  },
  {
   "cell_type": "code",
   "execution_count": 17,
   "metadata": {},
   "outputs": [],
   "source": [
    "number=pd.DataFrame(number,columns=['mobile number'])"
   ]
  },
  {
   "cell_type": "code",
   "execution_count": 18,
   "metadata": {},
   "outputs": [],
   "source": [
    "address=pd.DataFrame(add,columns=[\"address\"])"
   ]
  },
  {
   "cell_type": "code",
   "execution_count": 19,
   "metadata": {},
   "outputs": [],
   "source": [
    "company_name=pd.DataFrame(company,columns=[\"company name\"])"
   ]
  },
  {
   "cell_type": "code",
   "execution_count": 20,
   "metadata": {},
   "outputs": [],
   "source": [
    "detail=[number,address,company_name]"
   ]
  },
  {
   "cell_type": "code",
   "execution_count": 21,
   "metadata": {},
   "outputs": [],
   "source": [
    "deatils=pd.concat(detail,axis=1)"
   ]
  },
  {
   "cell_type": "code",
   "execution_count": 24,
   "metadata": {},
   "outputs": [],
   "source": [
    "deatils.to_excel(\"computer.xlsx\")"
   ]
  },
  {
   "cell_type": "code",
   "execution_count": null,
   "metadata": {},
   "outputs": [],
   "source": []
  }
 ],
 "metadata": {
  "kernelspec": {
   "display_name": "Python 3",
   "language": "python",
   "name": "python3"
  },
  "language_info": {
   "codemirror_mode": {
    "name": "ipython",
    "version": 3
   },
   "file_extension": ".py",
   "mimetype": "text/x-python",
   "name": "python",
   "nbconvert_exporter": "python",
   "pygments_lexer": "ipython3",
   "version": "3.7.1"
  }
 },
 "nbformat": 4,
 "nbformat_minor": 2
}
