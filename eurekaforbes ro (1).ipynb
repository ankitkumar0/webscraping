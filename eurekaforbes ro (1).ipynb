{
 "cells": [
  {
   "cell_type": "code",
   "execution_count": 1,
   "metadata": {},
   "outputs": [],
   "source": [
    "from bs4 import BeautifulSoup\n",
    "import requests"
   ]
  },
  {
   "cell_type": "code",
   "execution_count": 2,
   "metadata": {},
   "outputs": [],
   "source": [
    "from selenium import webdriver"
   ]
  },
  {
   "cell_type": "code",
   "execution_count": 3,
   "metadata": {},
   "outputs": [],
   "source": [
    "import os\n",
    "os.chdir('C:\\\\Users\\\\admin\\\\Desktop\\\\New folder\\\\brand data\\\\kent')"
   ]
  },
  {
   "cell_type": "code",
   "execution_count": 4,
   "metadata": {},
   "outputs": [],
   "source": [
    "import requests\n",
    "from fake_useragent import UserAgent\n",
    "from user_agents import parse\n",
    "import pandas as pd\n",
    "import bs4\n",
    "import time\n",
    "import numpy as np\n",
    "from selenium.webdriver.common.desired_capabilities import DesiredCapabilities\n",
    "import urllib"
   ]
  },
  {
   "cell_type": "code",
   "execution_count": 5,
   "metadata": {},
   "outputs": [],
   "source": [
    "from selenium.webdriver.support import expected_conditions as EC\n",
    "from selenium.webdriver.common.by import By\n",
    "from selenium.webdriver.support.wait import WebDriverWait"
   ]
  },
  {
   "cell_type": "code",
   "execution_count": 6,
   "metadata": {},
   "outputs": [],
   "source": [
    "driver = webdriver.Chrome(\"C:\\\\Users\\\\admin\\\\Downloads\\\\chromedriver\")"
   ]
  },
  {
   "cell_type": "code",
   "execution_count": 8,
   "metadata": {},
   "outputs": [],
   "source": [
    "driver.get(\"https://www.eurekaforbes.com/storelocator/\")"
   ]
  },
  {
   "cell_type": "code",
   "execution_count": 16,
   "metadata": {},
   "outputs": [
    {
     "ename": "KeyboardInterrupt",
     "evalue": "",
     "output_type": "error",
     "traceback": [
      "\u001b[1;31m---------------------------------------------------------------------------\u001b[0m",
      "\u001b[1;31mNoSuchElementException\u001b[0m                    Traceback (most recent call last)",
      "\u001b[1;32m<ipython-input-16-f2d87d27e647>\u001b[0m in \u001b[0;36m<module>\u001b[1;34m\u001b[0m\n\u001b[0;32m      9\u001b[0m     \u001b[1;32mtry\u001b[0m\u001b[1;33m:\u001b[0m\u001b[1;33m\u001b[0m\u001b[1;33m\u001b[0m\u001b[0m\n\u001b[1;32m---> 10\u001b[1;33m         \u001b[0mdriver\u001b[0m\u001b[1;33m.\u001b[0m\u001b[0mfind_element_by_xpath\u001b[0m\u001b[1;33m(\u001b[0m\u001b[0maaa\u001b[0m\u001b[1;33m)\u001b[0m\u001b[1;33m.\u001b[0m\u001b[0mclick\u001b[0m\u001b[1;33m(\u001b[0m\u001b[1;33m)\u001b[0m\u001b[1;33m\u001b[0m\u001b[1;33m\u001b[0m\u001b[0m\n\u001b[0m\u001b[0;32m     11\u001b[0m     \u001b[1;32mexcept\u001b[0m\u001b[1;33m:\u001b[0m\u001b[1;33m\u001b[0m\u001b[1;33m\u001b[0m\u001b[0m\n",
      "\u001b[1;32m~\\Anaconda3\\lib\\site-packages\\selenium\\webdriver\\remote\\webdriver.py\u001b[0m in \u001b[0;36mfind_element_by_xpath\u001b[1;34m(self, xpath)\u001b[0m\n\u001b[0;32m    393\u001b[0m         \"\"\"\n\u001b[1;32m--> 394\u001b[1;33m         \u001b[1;32mreturn\u001b[0m \u001b[0mself\u001b[0m\u001b[1;33m.\u001b[0m\u001b[0mfind_element\u001b[0m\u001b[1;33m(\u001b[0m\u001b[0mby\u001b[0m\u001b[1;33m=\u001b[0m\u001b[0mBy\u001b[0m\u001b[1;33m.\u001b[0m\u001b[0mXPATH\u001b[0m\u001b[1;33m,\u001b[0m \u001b[0mvalue\u001b[0m\u001b[1;33m=\u001b[0m\u001b[0mxpath\u001b[0m\u001b[1;33m)\u001b[0m\u001b[1;33m\u001b[0m\u001b[1;33m\u001b[0m\u001b[0m\n\u001b[0m\u001b[0;32m    395\u001b[0m \u001b[1;33m\u001b[0m\u001b[0m\n",
      "\u001b[1;32m~\\Anaconda3\\lib\\site-packages\\selenium\\webdriver\\remote\\webdriver.py\u001b[0m in \u001b[0;36mfind_element\u001b[1;34m(self, by, value)\u001b[0m\n\u001b[0;32m    977\u001b[0m             \u001b[1;34m'using'\u001b[0m\u001b[1;33m:\u001b[0m \u001b[0mby\u001b[0m\u001b[1;33m,\u001b[0m\u001b[1;33m\u001b[0m\u001b[1;33m\u001b[0m\u001b[0m\n\u001b[1;32m--> 978\u001b[1;33m             'value': value})['value']\n\u001b[0m\u001b[0;32m    979\u001b[0m \u001b[1;33m\u001b[0m\u001b[0m\n",
      "\u001b[1;32m~\\Anaconda3\\lib\\site-packages\\selenium\\webdriver\\remote\\webdriver.py\u001b[0m in \u001b[0;36mexecute\u001b[1;34m(self, driver_command, params)\u001b[0m\n\u001b[0;32m    320\u001b[0m         \u001b[1;32mif\u001b[0m \u001b[0mresponse\u001b[0m\u001b[1;33m:\u001b[0m\u001b[1;33m\u001b[0m\u001b[1;33m\u001b[0m\u001b[0m\n\u001b[1;32m--> 321\u001b[1;33m             \u001b[0mself\u001b[0m\u001b[1;33m.\u001b[0m\u001b[0merror_handler\u001b[0m\u001b[1;33m.\u001b[0m\u001b[0mcheck_response\u001b[0m\u001b[1;33m(\u001b[0m\u001b[0mresponse\u001b[0m\u001b[1;33m)\u001b[0m\u001b[1;33m\u001b[0m\u001b[1;33m\u001b[0m\u001b[0m\n\u001b[0m\u001b[0;32m    322\u001b[0m             response['value'] = self._unwrap_value(\n",
      "\u001b[1;32m~\\Anaconda3\\lib\\site-packages\\selenium\\webdriver\\remote\\errorhandler.py\u001b[0m in \u001b[0;36mcheck_response\u001b[1;34m(self, response)\u001b[0m\n\u001b[0;32m    241\u001b[0m             \u001b[1;32mraise\u001b[0m \u001b[0mexception_class\u001b[0m\u001b[1;33m(\u001b[0m\u001b[0mmessage\u001b[0m\u001b[1;33m,\u001b[0m \u001b[0mscreen\u001b[0m\u001b[1;33m,\u001b[0m \u001b[0mstacktrace\u001b[0m\u001b[1;33m,\u001b[0m \u001b[0malert_text\u001b[0m\u001b[1;33m)\u001b[0m\u001b[1;33m\u001b[0m\u001b[1;33m\u001b[0m\u001b[0m\n\u001b[1;32m--> 242\u001b[1;33m         \u001b[1;32mraise\u001b[0m \u001b[0mexception_class\u001b[0m\u001b[1;33m(\u001b[0m\u001b[0mmessage\u001b[0m\u001b[1;33m,\u001b[0m \u001b[0mscreen\u001b[0m\u001b[1;33m,\u001b[0m \u001b[0mstacktrace\u001b[0m\u001b[1;33m)\u001b[0m\u001b[1;33m\u001b[0m\u001b[1;33m\u001b[0m\u001b[0m\n\u001b[0m\u001b[0;32m    243\u001b[0m \u001b[1;33m\u001b[0m\u001b[0m\n",
      "\u001b[1;31mNoSuchElementException\u001b[0m: Message: no such element: Unable to locate element: {\"method\":\"xpath\",\"selector\":\"/html/body/div[2]/main/div[2]/div/section/div/div/div[2]/div/div/div[2]/div[3]/div/div[1]/div[2]/div/select/option[8]\"}\n  (Session info: chrome=87.0.4280.88)\n",
      "\nDuring handling of the above exception, another exception occurred:\n",
      "\u001b[1;31mKeyboardInterrupt\u001b[0m                         Traceback (most recent call last)",
      "\u001b[1;32m<ipython-input-16-f2d87d27e647>\u001b[0m in \u001b[0;36m<module>\u001b[1;34m\u001b[0m\n\u001b[0;32m     26\u001b[0m \u001b[1;33m\u001b[0m\u001b[0m\n\u001b[0;32m     27\u001b[0m \u001b[1;33m\u001b[0m\u001b[0m\n\u001b[1;32m---> 28\u001b[1;33m             \u001b[0mtime\u001b[0m\u001b[1;33m.\u001b[0m\u001b[0msleep\u001b[0m\u001b[1;33m(\u001b[0m\u001b[1;36m2\u001b[0m\u001b[1;33m)\u001b[0m\u001b[1;33m\u001b[0m\u001b[1;33m\u001b[0m\u001b[0m\n\u001b[0m\u001b[0;32m     29\u001b[0m             \u001b[1;32mfor\u001b[0m \u001b[0mi\u001b[0m \u001b[1;32min\u001b[0m \u001b[0mrange\u001b[0m\u001b[1;33m(\u001b[0m\u001b[1;36m1\u001b[0m\u001b[1;33m,\u001b[0m\u001b[1;36m70\u001b[0m\u001b[1;33m)\u001b[0m\u001b[1;33m:\u001b[0m\u001b[1;33m\u001b[0m\u001b[1;33m\u001b[0m\u001b[0m\n\u001b[0;32m     30\u001b[0m                 \u001b[0mank\u001b[0m\u001b[1;33m=\u001b[0m\u001b[0myaya\u001b[0m\u001b[1;33m.\u001b[0m\u001b[0mformat\u001b[0m\u001b[1;33m(\u001b[0m\u001b[0mi\u001b[0m\u001b[1;33m)\u001b[0m\u001b[1;33m\u001b[0m\u001b[1;33m\u001b[0m\u001b[0m\n",
      "\u001b[1;31mKeyboardInterrupt\u001b[0m: "
     ]
    }
   ],
   "source": [
    "ddd='/html/body/div[2]/main/div[2]/div/section/div/div/div[2]/div/div/div[2]/div[3]/div/div[1]/div[2]/div/select/option[{}]'\n",
    "ggg=\"/html/body/div[2]/main/div[2]/div/section/div/div/div[2]/div/div/div[2]/div[3]/div/div[1]/div[2]/div/select/option[{}]\"\n",
    "yaya = '/html/body/div[2]/main/div[2]/div/section/div/div/div[2]/div/div/div[2]/div[3]/div/div[2]/div/div[{}]/div/div'\n",
    "data = []\n",
    "\n",
    "for j in range (2,28):\n",
    "    aaa=ddd.format(j)\n",
    "    \n",
    "    try:\n",
    "        driver.find_element_by_xpath(aaa).click() \n",
    "    except:\n",
    "        pass\n",
    "        time.sleep(2)\n",
    "    \n",
    "        for i in range (2,80):\n",
    "            gg=ggg.format(i)\n",
    "\n",
    "            try:\n",
    "\n",
    "                driver.find_element_by_xpath(gg).click() \n",
    "                time.sleep(2)\n",
    "\n",
    "            except:\n",
    "                pass\n",
    "\n",
    "\n",
    "\n",
    "            time.sleep(2)\n",
    "            for i in range(1,70):\n",
    "                ank=yaya.format(i)\n",
    "\n",
    "                try:\n",
    "                    Result = driver.find_element_by_xpath(ank).text\n",
    "                    data.append(Result)\n",
    "                except:\n",
    "                    pass"
   ]
  },
  {
   "cell_type": "code",
   "execution_count": 14,
   "metadata": {},
   "outputs": [
    {
     "data": {
      "text/plain": [
       "['EUREKA FORBES LIMITED NO 4/7 Cross Road , Brodipet, Sai Baba Complex\\nCity / State : Guntur, Andhra Pradesh\\nPincode : 522002\\nFor Sales Enquiry : 01205097243\\nFor Service Request : 18602661177 / 7039883333',\n",
       " 'EUREKA FORBES LIMITED D.NO 9-5-14 GANDHI NAGAR ELWIN PETA PALAVARI STREET Opp post office\\nCity / State : Kakinada, Andhra Pradesh\\nPincode : 533004\\nFor Sales Enquiry : 01205097243\\nFor Service Request : 18602661177 / 7039883333',\n",
       " 'EUREKA FORBES LIMITED Door No.16-2-345,,Swantantra Park Street,Opp. Saibaba Mandiram.\\nCity / State : Nellore, Andhra Pradesh\\nPincode : 524001\\nFor Sales Enquiry : 01205097243\\nFor Service Request : 18602661177 / 7039883333',\n",
       " 'EUREKA FORBES LIMITED First Floor, Door No. 6-2-12/4,Nayapahti Vari Street,Nayapahti Vari Street.\\nCity / State : Rajahmundry, Andhra Pradesh\\nPincode : 533101\\nFor Sales Enquiry : 01205097243\\nFor Service Request : 18602661177 / 7039883333',\n",
       " 'EUREKA FORBES LIMITED 1ST FLOOR, SRI DURGA SADAN COMPLEX, OPP.CANARA BANK, JAMMICHETTU CENTRE,MOGALRAJPURAM\\nCity / State : Vijayawada, Andhra Pradesh\\nPincode : 520010\\nFor Sales Enquiry : 01205097243\\nFor Service Request : 18602661177 / 7039883333',\n",
       " 'EUREKA FORBES LIMITED D.NO 50-50-28/3, OPP ARKE SCHOOL, B S LAYOUT, GURUDWAR JUNCTION\\nCity / State : Visakhapatnam, Andhra Pradesh\\nPincode : 530013\\nFor Sales Enquiry : 01205097243\\nFor Service Request : 18602661177 / 7039883333',\n",
       " 'EUREKA FORBES LIMITED D.NO 50-50-28/3, OPP ARKE SCHOOL, B S LAYOUT, GURUDWAR JUNCTION\\nCity / State : Visakhapatnam, Andhra Pradesh\\nPincode : 530013\\nFor Sales Enquiry : 01205097243\\nFor Service Request : 18602661177 / 7039883333',\n",
       " 'EUREKA FORBES LIMITED D.NO 50-50-28/3, OPP ARKE SCHOOL, B S LAYOUT, GURUDWAR JUNCTION\\nCity / State : Visakhapatnam, Andhra Pradesh\\nPincode : 530013\\nFor Sales Enquiry : 01205097243\\nFor Service Request : 18602661177 / 7039883333',\n",
       " 'EUREKA FORBES LIMITED D.NO 50-50-28/3, OPP ARKE SCHOOL, B S LAYOUT, GURUDWAR JUNCTION\\nCity / State : Visakhapatnam, Andhra Pradesh\\nPincode : 530013\\nFor Sales Enquiry : 01205097243\\nFor Service Request : 18602661177 / 7039883333',\n",
       " 'EUREKA FORBES LIMITED D.NO 50-50-28/3, OPP ARKE SCHOOL, B S LAYOUT, GURUDWAR JUNCTION\\nCity / State : Visakhapatnam, Andhra Pradesh\\nPincode : 530013\\nFor Sales Enquiry : 01205097243\\nFor Service Request : 18602661177 / 7039883333',\n",
       " 'EUREKA FORBES LIMITED D.NO 50-50-28/3, OPP ARKE SCHOOL, B S LAYOUT, GURUDWAR JUNCTION\\nCity / State : Visakhapatnam, Andhra Pradesh\\nPincode : 530013\\nFor Sales Enquiry : 01205097243\\nFor Service Request : 18602661177 / 7039883333',\n",
       " 'EUREKA FORBES LIMITED D.NO 50-50-28/3, OPP ARKE SCHOOL, B S LAYOUT, GURUDWAR JUNCTION\\nCity / State : Visakhapatnam, Andhra Pradesh\\nPincode : 530013\\nFor Sales Enquiry : 01205097243\\nFor Service Request : 18602661177 / 7039883333',\n",
       " 'EUREKA FORBES LIMITED D.NO 50-50-28/3, OPP ARKE SCHOOL, B S LAYOUT, GURUDWAR JUNCTION\\nCity / State : Visakhapatnam, Andhra Pradesh\\nPincode : 530013\\nFor Sales Enquiry : 01205097243\\nFor Service Request : 18602661177 / 7039883333',\n",
       " 'EUREKA FORBES LIMITED D.NO 50-50-28/3, OPP ARKE SCHOOL, B S LAYOUT, GURUDWAR JUNCTION\\nCity / State : Visakhapatnam, Andhra Pradesh\\nPincode : 530013\\nFor Sales Enquiry : 01205097243\\nFor Service Request : 18602661177 / 7039883333',\n",
       " 'EUREKA FORBES LIMITED D.NO 50-50-28/3, OPP ARKE SCHOOL, B S LAYOUT, GURUDWAR JUNCTION\\nCity / State : Visakhapatnam, Andhra Pradesh\\nPincode : 530013\\nFor Sales Enquiry : 01205097243\\nFor Service Request : 18602661177 / 7039883333',\n",
       " 'EUREKA FORBES LIMITED D.NO 50-50-28/3, OPP ARKE SCHOOL, B S LAYOUT, GURUDWAR JUNCTION\\nCity / State : Visakhapatnam, Andhra Pradesh\\nPincode : 530013\\nFor Sales Enquiry : 01205097243\\nFor Service Request : 18602661177 / 7039883333',\n",
       " 'EUREKA FORBES LIMITED D.NO 50-50-28/3, OPP ARKE SCHOOL, B S LAYOUT, GURUDWAR JUNCTION\\nCity / State : Visakhapatnam, Andhra Pradesh\\nPincode : 530013\\nFor Sales Enquiry : 01205097243\\nFor Service Request : 18602661177 / 7039883333',\n",
       " 'EUREKA FORBES LIMITED D.NO 50-50-28/3, OPP ARKE SCHOOL, B S LAYOUT, GURUDWAR JUNCTION\\nCity / State : Visakhapatnam, Andhra Pradesh\\nPincode : 530013\\nFor Sales Enquiry : 01205097243\\nFor Service Request : 18602661177 / 7039883333',\n",
       " 'EUREKA FORBES LIMITED D.NO 50-50-28/3, OPP ARKE SCHOOL, B S LAYOUT, GURUDWAR JUNCTION\\nCity / State : Visakhapatnam, Andhra Pradesh\\nPincode : 530013\\nFor Sales Enquiry : 01205097243\\nFor Service Request : 18602661177 / 7039883333',\n",
       " 'EUREKA FORBES LIMITED D.NO 50-50-28/3, OPP ARKE SCHOOL, B S LAYOUT, GURUDWAR JUNCTION\\nCity / State : Visakhapatnam, Andhra Pradesh\\nPincode : 530013\\nFor Sales Enquiry : 01205097243\\nFor Service Request : 18602661177 / 7039883333',\n",
       " 'EUREKA FORBES LIMITED D.NO 50-50-28/3, OPP ARKE SCHOOL, B S LAYOUT, GURUDWAR JUNCTION\\nCity / State : Visakhapatnam, Andhra Pradesh\\nPincode : 530013\\nFor Sales Enquiry : 01205097243\\nFor Service Request : 18602661177 / 7039883333',\n",
       " 'EUREKA FORBES LIMITED D.NO 50-50-28/3, OPP ARKE SCHOOL, B S LAYOUT, GURUDWAR JUNCTION\\nCity / State : Visakhapatnam, Andhra Pradesh\\nPincode : 530013\\nFor Sales Enquiry : 01205097243\\nFor Service Request : 18602661177 / 7039883333',\n",
       " 'EUREKA FORBES LIMITED D.NO 50-50-28/3, OPP ARKE SCHOOL, B S LAYOUT, GURUDWAR JUNCTION\\nCity / State : Visakhapatnam, Andhra Pradesh\\nPincode : 530013\\nFor Sales Enquiry : 01205097243\\nFor Service Request : 18602661177 / 7039883333',\n",
       " 'EUREKA FORBES LIMITED D.NO 50-50-28/3, OPP ARKE SCHOOL, B S LAYOUT, GURUDWAR JUNCTION\\nCity / State : Visakhapatnam, Andhra Pradesh\\nPincode : 530013\\nFor Sales Enquiry : 01205097243\\nFor Service Request : 18602661177 / 7039883333',\n",
       " 'EUREKA FORBES LIMITED D.NO 50-50-28/3, OPP ARKE SCHOOL, B S LAYOUT, GURUDWAR JUNCTION\\nCity / State : Visakhapatnam, Andhra Pradesh\\nPincode : 530013\\nFor Sales Enquiry : 01205097243\\nFor Service Request : 18602661177 / 7039883333',\n",
       " 'EUREKA FORBES LIMITED D.NO 50-50-28/3, OPP ARKE SCHOOL, B S LAYOUT, GURUDWAR JUNCTION\\nCity / State : Visakhapatnam, Andhra Pradesh\\nPincode : 530013\\nFor Sales Enquiry : 01205097243\\nFor Service Request : 18602661177 / 7039883333',\n",
       " 'EUREKA FORBES LIMITED D.NO 50-50-28/3, OPP ARKE SCHOOL, B S LAYOUT, GURUDWAR JUNCTION\\nCity / State : Visakhapatnam, Andhra Pradesh\\nPincode : 530013\\nFor Sales Enquiry : 01205097243\\nFor Service Request : 18602661177 / 7039883333',\n",
       " 'EUREKA FORBES LIMITED D.NO 50-50-28/3, OPP ARKE SCHOOL, B S LAYOUT, GURUDWAR JUNCTION\\nCity / State : Visakhapatnam, Andhra Pradesh\\nPincode : 530013\\nFor Sales Enquiry : 01205097243\\nFor Service Request : 18602661177 / 7039883333',\n",
       " 'EUREKA FORBES LIMITED D.NO 50-50-28/3, OPP ARKE SCHOOL, B S LAYOUT, GURUDWAR JUNCTION\\nCity / State : Visakhapatnam, Andhra Pradesh\\nPincode : 530013\\nFor Sales Enquiry : 01205097243\\nFor Service Request : 18602661177 / 7039883333',\n",
       " 'EUREKA FORBES LIMITED D.NO 50-50-28/3, OPP ARKE SCHOOL, B S LAYOUT, GURUDWAR JUNCTION\\nCity / State : Visakhapatnam, Andhra Pradesh\\nPincode : 530013\\nFor Sales Enquiry : 01205097243\\nFor Service Request : 18602661177 / 7039883333',\n",
       " 'EUREKA FORBES LIMITED D.NO 50-50-28/3, OPP ARKE SCHOOL, B S LAYOUT, GURUDWAR JUNCTION\\nCity / State : Visakhapatnam, Andhra Pradesh\\nPincode : 530013\\nFor Sales Enquiry : 01205097243\\nFor Service Request : 18602661177 / 7039883333',\n",
       " 'EUREKA FORBES LIMITED D.NO 50-50-28/3, OPP ARKE SCHOOL, B S LAYOUT, GURUDWAR JUNCTION\\nCity / State : Visakhapatnam, Andhra Pradesh\\nPincode : 530013\\nFor Sales Enquiry : 01205097243\\nFor Service Request : 18602661177 / 7039883333',\n",
       " 'EUREKA FORBES LIMITED D.NO 50-50-28/3, OPP ARKE SCHOOL, B S LAYOUT, GURUDWAR JUNCTION\\nCity / State : Visakhapatnam, Andhra Pradesh\\nPincode : 530013\\nFor Sales Enquiry : 01205097243\\nFor Service Request : 18602661177 / 7039883333',\n",
       " 'EUREKA FORBES LIMITED D.NO 50-50-28/3, OPP ARKE SCHOOL, B S LAYOUT, GURUDWAR JUNCTION\\nCity / State : Visakhapatnam, Andhra Pradesh\\nPincode : 530013\\nFor Sales Enquiry : 01205097243\\nFor Service Request : 18602661177 / 7039883333',\n",
       " 'EUREKA FORBES LIMITED D.NO 50-50-28/3, OPP ARKE SCHOOL, B S LAYOUT, GURUDWAR JUNCTION\\nCity / State : Visakhapatnam, Andhra Pradesh\\nPincode : 530013\\nFor Sales Enquiry : 01205097243\\nFor Service Request : 18602661177 / 7039883333',\n",
       " 'EUREKA FORBES LIMITED D.NO 50-50-28/3, OPP ARKE SCHOOL, B S LAYOUT, GURUDWAR JUNCTION\\nCity / State : Visakhapatnam, Andhra Pradesh\\nPincode : 530013\\nFor Sales Enquiry : 01205097243\\nFor Service Request : 18602661177 / 7039883333',\n",
       " 'EUREKA FORBES LIMITED D.NO 50-50-28/3, OPP ARKE SCHOOL, B S LAYOUT, GURUDWAR JUNCTION\\nCity / State : Visakhapatnam, Andhra Pradesh\\nPincode : 530013\\nFor Sales Enquiry : 01205097243\\nFor Service Request : 18602661177 / 7039883333',\n",
       " 'EUREKA FORBES LIMITED D.NO 50-50-28/3, OPP ARKE SCHOOL, B S LAYOUT, GURUDWAR JUNCTION\\nCity / State : Visakhapatnam, Andhra Pradesh\\nPincode : 530013\\nFor Sales Enquiry : 01205097243\\nFor Service Request : 18602661177 / 7039883333',\n",
       " 'EUREKA FORBES LIMITED D.NO 50-50-28/3, OPP ARKE SCHOOL, B S LAYOUT, GURUDWAR JUNCTION\\nCity / State : Visakhapatnam, Andhra Pradesh\\nPincode : 530013\\nFor Sales Enquiry : 01205097243\\nFor Service Request : 18602661177 / 7039883333',\n",
       " 'EUREKA FORBES LIMITED D.NO 50-50-28/3, OPP ARKE SCHOOL, B S LAYOUT, GURUDWAR JUNCTION\\nCity / State : Visakhapatnam, Andhra Pradesh\\nPincode : 530013\\nFor Sales Enquiry : 01205097243\\nFor Service Request : 18602661177 / 7039883333',\n",
       " 'EUREKA FORBES LIMITED D.NO 50-50-28/3, OPP ARKE SCHOOL, B S LAYOUT, GURUDWAR JUNCTION\\nCity / State : Visakhapatnam, Andhra Pradesh\\nPincode : 530013\\nFor Sales Enquiry : 01205097243\\nFor Service Request : 18602661177 / 7039883333',\n",
       " 'EUREKA FORBES LIMITED D.NO 50-50-28/3, OPP ARKE SCHOOL, B S LAYOUT, GURUDWAR JUNCTION\\nCity / State : Visakhapatnam, Andhra Pradesh\\nPincode : 530013\\nFor Sales Enquiry : 01205097243\\nFor Service Request : 18602661177 / 7039883333',\n",
       " 'EUREKA FORBES LIMITED D.NO 50-50-28/3, OPP ARKE SCHOOL, B S LAYOUT, GURUDWAR JUNCTION\\nCity / State : Visakhapatnam, Andhra Pradesh\\nPincode : 530013\\nFor Sales Enquiry : 01205097243\\nFor Service Request : 18602661177 / 7039883333',\n",
       " 'EUREKA FORBES LIMITED D.NO 50-50-28/3, OPP ARKE SCHOOL, B S LAYOUT, GURUDWAR JUNCTION\\nCity / State : Visakhapatnam, Andhra Pradesh\\nPincode : 530013\\nFor Sales Enquiry : 01205097243\\nFor Service Request : 18602661177 / 7039883333',\n",
       " 'EUREKA FORBES LIMITED D.NO 50-50-28/3, OPP ARKE SCHOOL, B S LAYOUT, GURUDWAR JUNCTION\\nCity / State : Visakhapatnam, Andhra Pradesh\\nPincode : 530013\\nFor Sales Enquiry : 01205097243\\nFor Service Request : 18602661177 / 7039883333',\n",
       " 'EUREKA FORBES LIMITED D.NO 50-50-28/3, OPP ARKE SCHOOL, B S LAYOUT, GURUDWAR JUNCTION\\nCity / State : Visakhapatnam, Andhra Pradesh\\nPincode : 530013\\nFor Sales Enquiry : 01205097243\\nFor Service Request : 18602661177 / 7039883333',\n",
       " 'EUREKA FORBES LIMITED D.NO 50-50-28/3, OPP ARKE SCHOOL, B S LAYOUT, GURUDWAR JUNCTION\\nCity / State : Visakhapatnam, Andhra Pradesh\\nPincode : 530013\\nFor Sales Enquiry : 01205097243\\nFor Service Request : 18602661177 / 7039883333',\n",
       " 'EUREKA FORBES LIMITED D.NO 50-50-28/3, OPP ARKE SCHOOL, B S LAYOUT, GURUDWAR JUNCTION\\nCity / State : Visakhapatnam, Andhra Pradesh\\nPincode : 530013\\nFor Sales Enquiry : 01205097243\\nFor Service Request : 18602661177 / 7039883333',\n",
       " 'EUREKA FORBES LIMITED D.NO 50-50-28/3, OPP ARKE SCHOOL, B S LAYOUT, GURUDWAR JUNCTION\\nCity / State : Visakhapatnam, Andhra Pradesh\\nPincode : 530013\\nFor Sales Enquiry : 01205097243\\nFor Service Request : 18602661177 / 7039883333',\n",
       " 'EUREKA FORBES LIMITED D.NO 50-50-28/3, OPP ARKE SCHOOL, B S LAYOUT, GURUDWAR JUNCTION\\nCity / State : Visakhapatnam, Andhra Pradesh\\nPincode : 530013\\nFor Sales Enquiry : 01205097243\\nFor Service Request : 18602661177 / 7039883333',\n",
       " 'EUREKA FORBES LIMITED D.NO 50-50-28/3, OPP ARKE SCHOOL, B S LAYOUT, GURUDWAR JUNCTION\\nCity / State : Visakhapatnam, Andhra Pradesh\\nPincode : 530013\\nFor Sales Enquiry : 01205097243\\nFor Service Request : 18602661177 / 7039883333',\n",
       " 'EUREKA FORBES LIMITED D.NO 50-50-28/3, OPP ARKE SCHOOL, B S LAYOUT, GURUDWAR JUNCTION\\nCity / State : Visakhapatnam, Andhra Pradesh\\nPincode : 530013\\nFor Sales Enquiry : 01205097243\\nFor Service Request : 18602661177 / 7039883333',\n",
       " 'EUREKA FORBES LIMITED D.NO 50-50-28/3, OPP ARKE SCHOOL, B S LAYOUT, GURUDWAR JUNCTION\\nCity / State : Visakhapatnam, Andhra Pradesh\\nPincode : 530013\\nFor Sales Enquiry : 01205097243\\nFor Service Request : 18602661177 / 7039883333',\n",
       " 'EUREKA FORBES LIMITED D.NO 50-50-28/3, OPP ARKE SCHOOL, B S LAYOUT, GURUDWAR JUNCTION\\nCity / State : Visakhapatnam, Andhra Pradesh\\nPincode : 530013\\nFor Sales Enquiry : 01205097243\\nFor Service Request : 18602661177 / 7039883333',\n",
       " 'EUREKA FORBES LIMITED D.NO 50-50-28/3, OPP ARKE SCHOOL, B S LAYOUT, GURUDWAR JUNCTION\\nCity / State : Visakhapatnam, Andhra Pradesh\\nPincode : 530013\\nFor Sales Enquiry : 01205097243\\nFor Service Request : 18602661177 / 7039883333',\n",
       " 'EUREKA FORBES LIMITED D.NO 50-50-28/3, OPP ARKE SCHOOL, B S LAYOUT, GURUDWAR JUNCTION\\nCity / State : Visakhapatnam, Andhra Pradesh\\nPincode : 530013\\nFor Sales Enquiry : 01205097243\\nFor Service Request : 18602661177 / 7039883333',\n",
       " 'EUREKA FORBES LIMITED D.NO 50-50-28/3, OPP ARKE SCHOOL, B S LAYOUT, GURUDWAR JUNCTION\\nCity / State : Visakhapatnam, Andhra Pradesh\\nPincode : 530013\\nFor Sales Enquiry : 01205097243\\nFor Service Request : 18602661177 / 7039883333',\n",
       " 'EUREKA FORBES LIMITED D.NO 50-50-28/3, OPP ARKE SCHOOL, B S LAYOUT, GURUDWAR JUNCTION\\nCity / State : Visakhapatnam, Andhra Pradesh\\nPincode : 530013\\nFor Sales Enquiry : 01205097243\\nFor Service Request : 18602661177 / 7039883333',\n",
       " 'EUREKA FORBES LIMITED D.NO 50-50-28/3, OPP ARKE SCHOOL, B S LAYOUT, GURUDWAR JUNCTION\\nCity / State : Visakhapatnam, Andhra Pradesh\\nPincode : 530013\\nFor Sales Enquiry : 01205097243\\nFor Service Request : 18602661177 / 7039883333',\n",
       " 'EUREKA FORBES LIMITED D.NO 50-50-28/3, OPP ARKE SCHOOL, B S LAYOUT, GURUDWAR JUNCTION\\nCity / State : Visakhapatnam, Andhra Pradesh\\nPincode : 530013\\nFor Sales Enquiry : 01205097243\\nFor Service Request : 18602661177 / 7039883333']"
      ]
     },
     "execution_count": 14,
     "metadata": {},
     "output_type": "execute_result"
    }
   ],
   "source": [
    "data"
   ]
  },
  {
   "cell_type": "code",
   "execution_count": null,
   "metadata": {},
   "outputs": [],
   "source": []
  }
 ],
 "metadata": {
  "kernelspec": {
   "display_name": "Python 3",
   "language": "python",
   "name": "python3"
  },
  "language_info": {
   "codemirror_mode": {
    "name": "ipython",
    "version": 3
   },
   "file_extension": ".py",
   "mimetype": "text/x-python",
   "name": "python",
   "nbconvert_exporter": "python",
   "pygments_lexer": "ipython3",
   "version": "3.7.1"
  }
 },
 "nbformat": 4,
 "nbformat_minor": 2
}
