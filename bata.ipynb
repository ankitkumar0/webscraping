{
 "cells": [
  {
   "cell_type": "code",
   "execution_count": 1,
   "metadata": {},
   "outputs": [],
   "source": [
    "from bs4 import BeautifulSoup\n",
    "import requests\n",
    "import pandas as pd"
   ]
  },
  {
   "cell_type": "code",
   "execution_count": 7,
   "metadata": {},
   "outputs": [],
   "source": [
    "from selenium import webdriver\n",
    "import time"
   ]
  },
  {
   "cell_type": "code",
   "execution_count": 3,
   "metadata": {},
   "outputs": [],
   "source": [
    "import os\n",
    "os.chdir(\"D:\\\\ankit gupta\\\\New folder\\\\amazon.inbranded data\\\\bata\")"
   ]
  },
  {
   "cell_type": "code",
   "execution_count": 4,
   "metadata": {},
   "outputs": [],
   "source": [
    "from webdriver_manager.chrome import ChromeDriverManager"
   ]
  },
  {
   "cell_type": "code",
   "execution_count": 48,
   "metadata": {},
   "outputs": [],
   "source": [
    "driver = webdriver.Chrome(\"D:\\\\ankit gupta\\\\chromedriver\")"
   ]
  },
  {
   "cell_type": "code",
   "execution_count": 22,
   "metadata": {},
   "outputs": [
    {
     "data": {
      "text/plain": [
       "'Skechers - Novelty Mall, Pathankot : OPERATIONAL\\nCity: Pathankot\\nZip: 145001\\nState: Punjab\\nAddress: GF 04 & 05, Novelty Mall, Dalhousie Road, Mamun,\\nContact: 0186-2347474\\nEmail: skechers.Pathankot@gmail.com\\nDistance: 426 km\\nWork Time Today:\\n10:00 - 21:00'"
      ]
     },
     "execution_count": 22,
     "metadata": {},
     "output_type": "execute_result"
    }
   ],
   "source": [
    "driver.find_element_by_xpath(\"/html/body/main/div/section/div[2]/div/div/div[3]/div/div[2]/div/div[1]/div[100]\").text"
   ]
  },
  {
   "cell_type": "code",
   "execution_count": 6,
   "metadata": {},
   "outputs": [],
   "source": [
    "driver.get('https://www.bata.in/bataindia/faces/jsp/storeLocator.jsp')"
   ]
  },
  {
   "cell_type": "code",
   "execution_count": 42,
   "metadata": {},
   "outputs": [
    {
     "data": {
      "text/plain": [
       "'BONGAIGAON\\nGround Floor, Chapaguri Road, Opp Uday Market, North Bongaigaon, Assam - 783380\\n99999999'"
      ]
     },
     "execution_count": 42,
     "metadata": {},
     "output_type": "execute_result"
    }
   ],
   "source": [
    "driver.find_element_by_xpath('/html/body/section[1]/div/div[1]/div/ul/li[83]').text"
   ]
  },
  {
   "cell_type": "code",
   "execution_count": 43,
   "metadata": {},
   "outputs": [],
   "source": [
    "yaya='/html/body/section[1]/div/div[1]/div/ul/li[{}]'\n",
    "data=[]\n",
    "for i in range(1,84):\n",
    "    ank=yaya.format(i)\n",
    "    try:\n",
    "        r2=driver.find_element_by_xpath(ank).text\n",
    "        data.append(r2)\n",
    "    except:\n",
    "        pass\n"
   ]
  },
  {
   "cell_type": "code",
   "execution_count": 44,
   "metadata": {},
   "outputs": [
    {
     "data": {
      "text/plain": [
       "['HATIBAGAN SHOWROOM\\n132/3A BIDHAN SARANI, FARIAPUKUR CROSSING, KOLKATA -700004. WEST BENGAL\\n033-25331545',\n",
       " 'GARIAHAT SHOWROOM\\n26/4 HINDUSTAN PARK, KOLKATA -700029. WEST BENGAL\\n033-24647710',\n",
       " 'HOWRAH SHOWROOM\\n545/4 G. T. ROAD (SOUTH), NEAR MALLICK PHATAK, HOWRAH - 711101. WEST BENGAL\\n033-26387186',\n",
       " 'UTTARPARA SHOWROOM\\n2 B P M B SARANI, SHAKHER BAZAR, BHADRAKALI, UTTARPARA, HOOGHLY - 712258. WEST BENGAL\\n033-26634379',\n",
       " 'BELGHORIA SHOWROOM\\n43 FEDER ROAD, OPP. BHAIRAV GANGULY COLLEGE, KOLKATA -700056. WEST BENGAL\\n033-25443136',\n",
       " 'DURGAPUR SHOWROOM\\nPLOT NO CS 618, NACHAN ROAD, BENACHITY, DURGAPUR - 713213. WEST BENGAL\\n0343-2588033',\n",
       " 'SILIGURI SHOWROOM\\nNEELKAMAL SHOPPING PLAZA, HILLCART ROAD, OPP.MEGHDOOT CINEMA HALL, DARJEELING - 734001. WEST BENGAL\\n0353-2535472',\n",
       " 'BURDWAN SHOWROOM\\nB C ROAD, RANIGUNJ MORE, BURDWAN - 713101. WEST BENGAL\\n0342-2568394',\n",
       " 'SHRIRAMPUR SHOWROOM\\nSAHA ROADLINES (PVT) LTD, SRPL TOWER, 23 AUDDY LANE, PO & PS - SERAMPORE, HOOGHLY – 712201. WEST BENGAL\\n033-26522652',\n",
       " 'BIDHANNAGAR SHOWROOM\\nBIDHANNAGAR, P-195, CIT SCHEME, VII- M, KOLKATA – 700067. WEST BENGAL\\n033-23551593',\n",
       " 'ALIPURDUAR SHOWROOM\\nALIPUR DUAR MAHAKAL DHAM, NEW TOWN, NEAR STEPPING STONE SCHOOL, JALPAIGURI – 736121. WEST BENGAL\\n03564-251595',\n",
       " 'KHARAGPUR SHOWROOM\\nSHOP NO.-14, RAILWAY MARKET, GOAL BAZAR, PASCHIM MIDNAPUR -721301. WEST BENGAL\\n03222-227792',\n",
       " 'BEHALA SHOWROOM\\n305, DIAMOND HARBOUR ROAD, BESIDE BEHALA POLICE STATION, KOLKATA-700034. WEST BENGAL\\n033-23974212',\n",
       " 'JALPAIGURI SHOWROOM\\nMERCHANT ROAD, P.O.-JALPAIGURI, P.S.-SADAR KOTWALI, JALPAIGURI - 735101. WEST BENGAL\\n03561-222536',\n",
       " 'MEDINIPUR SHOWROOM\\nPOSTOFICE ROAD, P.O. & P.S. MEDINIPUR - 721101. WEST BENGAL\\n03222-261505',\n",
       " 'HATIBAGAN –II SHOWROOM\\n80, BIDHAN SARANI, OPP. RADHA CINEMA, KOLKATA - 700006. WEST BENGAL\\n033-2555 1508',\n",
       " 'RANIGUNJ SHOWROOM\\nN.S.B. ROAD, OPP-MUNICIPALITY OFFICE, P.O & P.S. - RANIGANJ, BURDWAN -713347. WEST BENGAL\\n0341-2440083',\n",
       " 'SODEPUR SHOWROOM\\nSODEPUR STATION ROAD, BESIDE JUNCTION PUMP, SODEPUR, KHARDAH, 24 PGS - 700110. WEST BENGAL\\n033-25230175',\n",
       " 'SILIGURI - II SHOWROOM\\nSARDA KUNJ, S. F. ROAD, OPP. SOMANI MILL COMPLEX, SILIGURI - 734005. WEST BENGAL\\n0353-2504916',\n",
       " 'KANCHRAPARA SHOWROOM\\n88, K. G. R. PATH, KANCHRAPARA, BIZPUR, 24 PGS - 743145. WEST BENGAL\\n033-25850026',\n",
       " 'CHINSURAH SHOWROOM\\nN.S. ROAD, KHARUA BAZAR, CHINSURAH, HOOGHLY -712101. WEST BENGAL\\n033-26800585',\n",
       " 'BANKURA SHOWROOM\\nP. MUKHERJEE & BROTHERS, SUBHAS ROAD, BARABAZAR, BANKURA - 722101. WEST BENGAL\\n03242-257174',\n",
       " 'GORABAZAR SHOWROOM\\n12, J. N. TEWARY ROAD, GORABAZAR, DUM DUM CANTONMENT, KOLKATA-700028. WEST BENGAL\\n033-25473020',\n",
       " 'MALDA SHOWROOM\\n25/82, WARD NO -17, RAVINDRA AVENUE, OPP. BEHANI PETROL PUMP, MALDA - 732101. WEST BENGAL\\n03512-223322',\n",
       " 'DHANBAD SHOWROOM\\nSHOP NO.-6, 7, 14 & 15, GROUND FLOOR TIWARY PLAZA, BANK MORE, DHANBAD, JHARKHAND - 826001\\n0326-2300371',\n",
       " 'BOLPUR SHOWROOM\\nSTATION ROAD, BOLPUR, BIRBHUM - 731204. WEST BENGAL\\n3463-252375',\n",
       " 'AGARTALA - I SHOWROOM\\nHARIGANGA BASAK ROAD, NEAR TINTUMITA SHOP, KAMANCHOUMANI, AGARTALA, WEST TRIPURA - 799001\\n0381-2384120',\n",
       " 'BAHARAMPUR SHOWROOM\\n13, B. B. GUPTA ROAD, P.O.- KHAGRA, BAHARAMPUR, MURSHIDABAD - 742103. WEST BENGAL\\n3482-259505',\n",
       " 'KHARDAH SHOWROOM\\n20/A, ISWAR CHOWDHURY ROAD WARD NO-12, RAHARA KOLKATA- 700118. WEST BENGAL\\n033-25681155',\n",
       " 'GUWAHATI SHOWROOM\\nG.S.ROAD,PALTAN BAZAR, PALTAN BAZAR, KAMRUP - 781008. ASSAM\\n0361-2733533',\n",
       " 'NAIHATI SHOWROOM\\n22 H.G.ROAD,NAIHATI, 24 PGS - 743165. WEST BENGAL\\n033-25816677',\n",
       " 'RAIGANJ - II SHOWROOM\\nN. S. ROAD, MOHAN BATI, MOHAN BATI, RAIGANJ - 733134. WEST BENGAL\\n0352-3252564',\n",
       " 'GOMATI SHOWROOM\\nCENTRAL ROAD , UDAIPUR, GOMATI - 799120. TRIPURA\\n0384-3260029',\n",
       " 'KARIMGANJ SHOWROOM\\nSTATION ROAD, OPP. GANGA BHANDER, KARIMGANJ - 788711. ASSAM\\n0384-3260029',\n",
       " 'GUWAHATI SHOWROOM\\nLAKHTOKIA SHOWROOM S S ROAD, LAKHTOKIA, GUWAHATI - 781001. ASSAM\\n03612-736147',\n",
       " 'JORHAT SHOWROOM\\nHOLDING NO - 465 & 466, WARD NO - 7, JORHAT - 785001. ASSAM\\n9678830503.0',\n",
       " 'SIVSAGAR SHOWROOM\\nDOLMUKH CHARALI, BABU PATTY ROAD, SIVSAGAR - 785640. ASSAM\\n03772-220117',\n",
       " 'MADHYAMGRAM SHOWROOM\\nBIJOYNAGAR, SODEPUR ROAD MADHYAMGRAM, KOLKATA-700129. WEST BENGAL\\n033-25267080',\n",
       " 'DHUPGURI SHOWROOM\\n11, FALAKATA ROAD, OPP THANA ROAD, DHUPGURI, DIST- JALPAIGURI - 735210. WEST BENGAL\\n0356-3250057',\n",
       " 'DIBRUGARH SHOWROOM\\nAJMERA HOUSE, GROUND FLOOR, CHARALI, DIBRUGARH - 786001. ASSAM\\n0373-2322968',\n",
       " 'GANESHGURI SHOWROOM\\n1ST FLOOR, BEDI MARKET, GANESHGURI, GUWAHATI- 781006. ASSAM\\n0361-2239977',\n",
       " 'BARAKAR SHOWROOM\\n105/103, G. T. ROAD, SOUTH BARAKAR, KULTI, BURDWAN - 713324. WEST BENGAL\\n0341-2520125',\n",
       " 'BURDWAN - II SHOWROOM\\n73, G. T. ROAD, NEAR MAIN POST OFFICE, BURDWAN - 713101. WEST BENGAL\\n1342-2665408',\n",
       " 'BARASAT SHOWROOM\\n45/1 JESSORE ROAD, PS- BARASAT, 24 PGS - 700124. WEST BENGAL\\n033-25840219',\n",
       " 'ARAMBAGH SHOWROOM\\nP. C. SEN SARANI, NEAR ARAMBAGH GIRLS SCHOOL, ARAMBAGH, HOOGHLY - 712601. WEST BENGAL\\n03211-256789',\n",
       " 'GARIA SHOWROOM\\nKANUNGO PARK, OPP B D MEMORIAL SCHOOL, KOLKATA - 700084\\n9051619705.0',\n",
       " 'BIRATI SHOWROOM\\nOPP OLD POST OFFICE, PO-BIRATI, PS- NIMTA, KOLKATA - 700051\\n9038495771.0',\n",
       " 'NAGERBAZAR SHOWROOM\\n1, RASTRAGURU AVENUE, KOLKATA - 700028\\n033-25797999',\n",
       " 'DHARMANAGAR SHOWROOM\\nKALIBARI ROAD, DHARMANAGAR, NORTH TRIPURA - 799250\\n03822-232098',\n",
       " 'FALAKATA SHOWROOM\\nNATUN CHOUPATTY, FALAKATA, FALAKATA MAIN ROAD, DIST. - ALIPURDUAR, PIN- 735211. WEST BENGAL\\n9836186789.0',\n",
       " 'SILCHAR SHOWROOM\\nNAZIR PATTY, HOLDING NO. 5, WARD NO. 23, SILCHAR, DIST- CACHAAR, P.O/P.S- SILCHAR, ASSAM-788001\\n9435738391.0',\n",
       " 'KORBA SHOWROOM\\nTRANSPORT NAGER, POWER HOUSE ROAD, KORBA, CG.- 495677\\n9021121193.0',\n",
       " 'AMTALA SHOWROOM\\nAmtala, Kanyanagar, PS-Bishnupur, 24 Paraganas (S), Pin- 743398\\n033-24809500',\n",
       " 'ISLAMPUR SHOWROOM\\nM G Road, Bata Chowk, P.O. & P.S.-Islampur, Dist.- Uttar Dinajpur, West Bengal-733202\\n0352-6255289',\n",
       " 'BIRPARA SHOWROOM\\nBirpara, Near Old Busstand, P.O.-Birpara, Dist.-Alipurduar, Pin- 735204\\n9051619726.0',\n",
       " 'KONNAGAR SHOWROOM\\nShop No. 5, Ground Floor, 133/1, Indira Gandhi Road ( Criper Road), Ward No. 11, P.O. Konnagar, P.S. Uttarpara, District – Hooghly, Pin-712235\\n033-26747444',\n",
       " 'AMBIKAPUR SHOWROOM\\nSadar Road, Ambikapur, Chhattisgarh-497001\\n9174143527.0',\n",
       " 'SIX MILE SHOWROOM\\nMullick Arcade, J P Agarwal RD, PS-Dispur, PO-Khanapara, Guwahati, Assam-781022\\n9101351571.0',\n",
       " 'SEALDAH SHOWROOM\\n118B, A J C Bose Road, Kolkata-700014\\n8981544256.0',\n",
       " 'ALIPURDUAR II SHOWROOM\\nMarwari Patty, Ward No.-12, PS & PO-Alipurduar, Dist.-Alipurduar, Pin-736121\\n7001164237.0',\n",
       " 'BURNPUR SHOWROOM\\nBata More, 35, Station Road, Burnpur, PS-Haripur, Asansol, Barddhaman-713325\\n0341-2230203',\n",
       " 'HABRA II SHOWROOM\\nHabra Bazaar, 3 No Goli, Jassore Road, Near Indira Gandhi Statue.\\n0.0',\n",
       " 'KRISHNANAGAR SHOWROOM\\n12 M M Ghosh Street, Opp. Town Hall, Krishnanagar, Nadia, Pin-741101\\n9051619700.0',\n",
       " 'KATWA SHOWROOM\\nKatwa station bazar,Katwa, Burdwan\\n8697726741.0',\n",
       " 'DIAMOND HARBOUR SHOWROOM\\nState Bus Stand, Diamond Harbour, Main Road, PO & PS-Diamond Harbour, South 24 PGS, Pin-743331\\n9073686776.0',\n",
       " 'MELAGHAR SHOWROOM\\nMelaghar, Opp Melaghar Bus Stand, Dist.- Sipaijala, Tripura-799115, PH: 0381-2520069\\n9615514409.0',\n",
       " 'HOJAI SHOWROOM\\nHojai Main Road, Hojai, Assam-782435\\n7578996310.0',\n",
       " 'NAXALBARI SHOWROOM\\nChowrongee More, Naxalbari Bazar, Dist.- Darjeeling, Pin- 734429, Ph. No: 9073686771\\n9073686711.0',\n",
       " 'PANDUA SHOWROOM\\nHattolla, G.T. Road, Pandua, Dist.- Hooghly, Pin- 712149, (W.B.)\\n9382069045.0',\n",
       " 'SARKARHAT SHOWROOM\\n358 ,Sarkar Hat Lane, Under K.M.C., Ward No.-126, Borough No. -XIV, P.S.-Thakurpukur, Sarsuna, Dist. -24 Parganas (South), Pin-700061\\n8967898504.0',\n",
       " 'DHULAGARH SHOWROOM\\nDhulagarh Shibtala, PS-Sankrail, Dist.-Howrah, Pin- 711302\\n8017116651.0',\n",
       " 'DUM DUM SHOWROOM\\nDum Dum Mall Road, Central Jail More, Near Sarada Apartment\\n8910409961.0',\n",
       " 'TAMLUK SHOWROOM\\nWard No 7, Town Padumbasan, PS Tamluk, Dist Purbo Medinipur, WB - 721636\\n8670510364.0',\n",
       " 'RAMPURHAT SHOWROOM\\nDakbangla Para, Rampurhat, Birbhum, WB - 731224\\n8013610672.0',\n",
       " 'TUFANGANJ SHOWROOM\\nAdi Kali Bari, Opp Anandmaye Hardware, PO & PS Tufanganj, Dist Coochbeher, WB - 736160\\n8638378250.0',\n",
       " 'SONARPUR SHOWROOM\\n211, Mondal Para, Deshbandhu Park More, HC Sarani, Kolkata - 700150\\n9051866861.0',\n",
       " 'PATNA SHOWROOM\\nNew Market, Pillar No 3, Near GPO, Gulambar, Patna - 800001\\n9308607999.0',\n",
       " 'RANGIA SHOWROOM\\nHolding No 78, Ward No 5, PO & PS - Rangia, R.D.Road, 2 No Police Point, Rangia, Assam - 781354\\n8723958705.0',\n",
       " 'JAMUI SHOWROOM\\nCourt Road, Sushila Fashion, Mahrajganj, Jamui, Bihar - 811307\\n9939998735.0',\n",
       " 'MUZAFFARPUR SHOWROOM\\nMasjid Chowk, Gaushala Road, Muzaffarpur, Bihar - 842002\\n8789967008.0',\n",
       " 'PURULIA SHOWROOM\\nGround Floor of Sitara Lodge, Deshbandhu Road, Ward No 21, Holding No 57, Purulia, West Bengal - 723101\\n9382864947.0',\n",
       " 'JEHANABAD SHOWROOM\\nHospital Road, Near Jama Masjid, Jehanabad, Bihar - 804408\\n8109787268.0',\n",
       " 'BONGAIGAON\\nGround Floor, Chapaguri Road, Opp Uday Market, North Bongaigaon, Assam - 783380\\n99999999']"
      ]
     },
     "execution_count": 44,
     "metadata": {},
     "output_type": "execute_result"
    }
   ],
   "source": [
    "data"
   ]
  },
  {
   "cell_type": "code",
   "execution_count": 45,
   "metadata": {},
   "outputs": [],
   "source": [
    "datap=pd.DataFrame(data,columns=[\"rawdata\"])"
   ]
  },
  {
   "cell_type": "code",
   "execution_count": 46,
   "metadata": {},
   "outputs": [],
   "source": [
    "data1=datap[\"rawdata\"].str.split(pat='\\n',n=6,expand=True)"
   ]
  },
  {
   "cell_type": "code",
   "execution_count": 47,
   "metadata": {},
   "outputs": [],
   "source": [
    "data1.to_excel(\"ajanta.xlsx\")"
   ]
  },
  {
   "cell_type": "code",
   "execution_count": null,
   "metadata": {},
   "outputs": [],
   "source": []
  }
 ],
 "metadata": {
  "kernelspec": {
   "display_name": "Python 3",
   "language": "python",
   "name": "python3"
  },
  "language_info": {
   "codemirror_mode": {
    "name": "ipython",
    "version": 3
   },
   "file_extension": ".py",
   "mimetype": "text/x-python",
   "name": "python",
   "nbconvert_exporter": "python",
   "pygments_lexer": "ipython3",
   "version": "3.7.1"
  }
 },
 "nbformat": 4,
 "nbformat_minor": 2
}
