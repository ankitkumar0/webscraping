{
 "cells": [
  {
   "cell_type": "code",
   "execution_count": 4,
   "metadata": {},
   "outputs": [],
   "source": [
    "from selenium import webdriver"
   ]
  },
  {
   "cell_type": "code",
   "execution_count": 1,
   "metadata": {},
   "outputs": [],
   "source": [
    "from selenium.webdriver.support.ui import Select\n",
    "from webdriver_manager.chrome import ChromeDriverManager\n",
    "import os\n",
    "import pandas as pd\n",
    "import numpy as np"
   ]
  },
  {
   "cell_type": "code",
   "execution_count": 2,
   "metadata": {},
   "outputs": [],
   "source": [
    "os.chdir('D:\\\\ankit gupta\\\\New folder\\\\amazon.inbranded data\\\\blue star')"
   ]
  },
  {
   "cell_type": "code",
   "execution_count": 5,
   "metadata": {},
   "outputs": [],
   "source": [
    "driver = webdriver.Chrome(\"D:\\\\ankit gupta\\\\chromedriver\")"
   ]
  },
  {
   "cell_type": "code",
   "execution_count": 44,
   "metadata": {},
   "outputs": [],
   "source": [
    "yaya=\"/html/body/div[1]/div[2]/div[1]/div[3]/div[1]/div[2]/div[2]/div[{}]\"\n",
    "data=[]\n",
    "for i in range(1,100):\n",
    "    ank=yaya.format(i)\n",
    "    try:\n",
    "        r=driver.find_element_by_xpath(ank).text\n",
    "        data.append(r)\n",
    "    except:\n",
    "        pass"
   ]
  },
  {
   "cell_type": "code",
   "execution_count": 45,
   "metadata": {},
   "outputs": [
    {
     "data": {
      "text/plain": [
       "['Nurturing Green Plantation Private Limited (“NGPPL”)\\n393,77 km\\nPlot No.7, 1105-A, Advant Navis Business Park, Sector 142\\nNoida Gautam Buddha Nagar, Uttar Pradesh 201301\\nIndia\\n+91 9899970725\\nGet Directions',\n",
       " 'NRAY CORPORATE SERVICES PRIVATE LIMITED\\n394,43 km\\nB-602, Tower B Today Homes, Ridge Residency, Sector 135,\\nGautam Buddha Nagar, Uttar Pradesh 201301\\nIndia\\n9873930018\\nGet Directions',\n",
       " 'Croma Logix Mall\\n402,43 km\\nCroma Logix Mall, Noida\\nDelhi, Uttar Pradesh 201301\\nIndia\\n072076 66000\\nGet Directions',\n",
       " 'Retail Pharmacy\\n403,17 km\\nSector-62, Noida Shop No-22, Block C-58/15a, Tot Mall Shopping Complex, Sector-62\\nNoida, Uttar Pradesh 201303\\nIndia\\n+91 9811699886\\nGet Directions',\n",
       " 'Ankur Electrical\\n404,47 km\\nC-6, Sector 9\\nNoida, Uttar Pradesh 201301\\nIndia\\n9899862134\\nGet Directions',\n",
       " 'Ankur Electrical\\n404,69 km\\nJ – 14, Sector 18\\nNoida, Uttar Pradesh 201301\\nIndia\\n9899862119\\nGet Directions',\n",
       " 'Croma DLF Mall of India\\n404,82 km\\nCroma, Unit No. C218B, 1st Floor DLF Mall of India\\nNoida, Uttar Pradesh 201301\\nIndia\\n072076 66000\\nGet Directions',\n",
       " 'AIR Expert India\\n404,99 km\\nF-31, 1ST FLOOR, ARORA SHOPPERS PARK, OPP SWARN JAYANTI PARK\\nIndirapuram, Uttar Pradesh 201010\\nIndia\\n9999382786\\nGet Directions',\n",
       " 'N Ray Enterprises\\n405,05 km\\nD 195, Sector 10,\\nNoida, Uttar Pradesh 201301\\nIndia\\n0120-4296829\\nGet Directions',\n",
       " 'Retail Pharmacy\\n405,19 km\\nSector-18, Noida Gf-31/41, Pearl Plaza,\\nNoida, Uttar Pradesh 201301\\nIndia\\n+91 9811699886\\nGet Directions',\n",
       " 'ADVANCE GLOBALTECH CONSULTANCY PRIVATE LIMITED\\n406,94 km\\nA43, 3RD FLOOR, SEC 7,\\nNoida, Uttar Pradesh 201301\\nIndia\\n9313404090\\nGet Directions',\n",
       " 'Croma Pacific\\n409,16 km\\nPlot Alpha, Sahibabad Industrial Area Site 4\\nGhaziabad, Uttar Pradesh 201010\\nIndia\\n072076 66000\\nGet Directions']"
      ]
     },
     "execution_count": 45,
     "metadata": {},
     "output_type": "execute_result"
    }
   ],
   "source": [
    "data"
   ]
  },
  {
   "cell_type": "code",
   "execution_count": 46,
   "metadata": {},
   "outputs": [],
   "source": [
    "datap=pd.DataFrame(data,columns=[\"rawdata\"])"
   ]
  },
  {
   "cell_type": "code",
   "execution_count": 47,
   "metadata": {},
   "outputs": [],
   "source": [
    "d1=datap[\"rawdata\"].str.split(pat='\\n',n=57,expand=True,)"
   ]
  },
  {
   "cell_type": "code",
   "execution_count": 48,
   "metadata": {},
   "outputs": [],
   "source": [
    "final=pd.concat([final,d1],ignore_index=True)"
   ]
  },
  {
   "cell_type": "code",
   "execution_count": 18,
   "metadata": {},
   "outputs": [],
   "source": [
    "# final=d1"
   ]
  },
  {
   "cell_type": "code",
   "execution_count": 49,
   "metadata": {},
   "outputs": [],
   "source": [
    "final.to_excel(\"buleair.xlsx\")"
   ]
  },
  {
   "cell_type": "code",
   "execution_count": null,
   "metadata": {},
   "outputs": [],
   "source": []
  }
 ],
 "metadata": {
  "kernelspec": {
   "display_name": "Python 3",
   "language": "python",
   "name": "python3"
  },
  "language_info": {
   "codemirror_mode": {
    "name": "ipython",
    "version": 3
   },
   "file_extension": ".py",
   "mimetype": "text/x-python",
   "name": "python",
   "nbconvert_exporter": "python",
   "pygments_lexer": "ipython3",
   "version": "3.7.1"
  }
 },
 "nbformat": 4,
 "nbformat_minor": 2
}
