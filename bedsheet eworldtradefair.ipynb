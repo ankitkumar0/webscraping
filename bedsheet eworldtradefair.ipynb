{
 "cells": [
  {
   "cell_type": "code",
   "execution_count": 1,
   "metadata": {},
   "outputs": [],
   "source": [
    "from selenium import webdriver\n",
    "from selenium.webdriver.support.ui import Select\n",
    "import pandas as pd"
   ]
  },
  {
   "cell_type": "code",
   "execution_count": 2,
   "metadata": {},
   "outputs": [],
   "source": [
    "from webdriver_manager.chrome import ChromeDriverManager"
   ]
  },
  {
   "cell_type": "code",
   "execution_count": 3,
   "metadata": {},
   "outputs": [],
   "source": [
    "import os\n",
    "os.chdir(\"D:\\\\ankit gupta\\\\New folder\\\\eby and amazon .com\\\\bed sheet eworldtradefair\")"
   ]
  },
  {
   "cell_type": "code",
   "execution_count": 4,
   "metadata": {},
   "outputs": [],
   "source": [
    "driver = webdriver.Chrome(\"D:\\\\ankit gupta\\\\chromedriver\")"
   ]
  },
  {
   "cell_type": "code",
   "execution_count": 5,
   "metadata": {},
   "outputs": [],
   "source": [
    "driver.get(\"http://www.eworldtradefair.com/leather.html\")"
   ]
  },
  {
   "cell_type": "code",
   "execution_count": 61,
   "metadata": {},
   "outputs": [],
   "source": [
    "company=\"/html/body/div[2]/div[5]/div[1]/div/div[{}]/div/div/ul/li[1]/h4\"\n",
    "add=\"/html/body/div[2]/div[5]/div[1]/div/div[{}]/div/div/ul/li[3]\"\n",
    "mob='/html/body/div[2]/div[5]/div[1]/div/div[{}]/div/div[1]/div[2]/div/p[3]'\n",
    "company_name=[]\n",
    "address=[]\n",
    "phone=[]\n",
    "for i in range(2,300):\n",
    "    ank=company.format(i)\n",
    "    try:\n",
    "        result=driver.find_element_by_xpath(ank).text\n",
    "        company_name.append(result)\n",
    "    except:\n",
    "        pass\n",
    "for i in range(2,300):\n",
    "    ank2=add.format(i)\n",
    "    try:\n",
    "        result1=driver.find_element_by_xpath(ank2).text\n",
    "        address.append(result1)\n",
    "    except:\n",
    "        pass\n",
    "for i in range(2,300):\n",
    "    ank3=mob.format(i)\n",
    "    try:\n",
    "        result2=driver.find_element_by_xpath(ank3).text\n",
    "        phone.append(result2)\n",
    "    except:\n",
    "        pass\n",
    "    \n",
    "    "
   ]
  },
  {
   "cell_type": "code",
   "execution_count": 62,
   "metadata": {},
   "outputs": [
    {
     "data": {
      "text/plain": [
       "335"
      ]
     },
     "execution_count": 62,
     "metadata": {},
     "output_type": "execute_result"
    }
   ],
   "source": [
    "company_name=pd.DataFrame(company_name,columns=[\"company_name\"])\n",
    "phone_no=pd.DataFrame(phone,columns=[\"phone_no\"])\n",
    "address=pd.DataFrame(address,columns=[\"address\"])\n",
    "deatils=[phone_no,company_name,address]\n",
    "detail2=pd.concat(deatils,axis=1)\n",
    "final2=pd.concat([final2,detail2],ignore_index=True)\n",
    "len(final2)"
   ]
  },
  {
   "cell_type": "code",
   "execution_count": 48,
   "metadata": {},
   "outputs": [
    {
     "data": {
      "text/plain": [
       "96"
      ]
     },
     "execution_count": 48,
     "metadata": {},
     "output_type": "execute_result"
    }
   ],
   "source": [
    "# final2"
   ]
  },
  {
   "cell_type": "code",
   "execution_count": 51,
   "metadata": {},
   "outputs": [],
   "source": [
    "final2=detail2"
   ]
  },
  {
   "cell_type": "code",
   "execution_count": 63,
   "metadata": {},
   "outputs": [],
   "source": [
    "final2.to_excel(\"kitchenware.xlsx\")"
   ]
  },
  {
   "cell_type": "code",
   "execution_count": 64,
   "metadata": {},
   "outputs": [
    {
     "data": {
      "text/plain": [
       "'Pet Bowls\\nWe are counted amongst the best manufacturer and supplier of pet bowls who are ...\\nCall: 9891114705\\nStandard Steels\\nManufacturer, Distributor\\nB-75, Wazirpur, Industrial Area, - , Delhi, India'"
      ]
     },
     "execution_count": 64,
     "metadata": {},
     "output_type": "execute_result"
    }
   ],
   "source": [
    "driver.find_element_by_xpath(\"/html/body/div[2]/div[5]/div[1]/div/div[1]\").text"
   ]
  },
  {
   "cell_type": "code",
   "execution_count": 117,
   "metadata": {},
   "outputs": [],
   "source": [
    "yaya=\"/html/body/div[2]/div[5]/div[1]/div/div[{}]\"\n",
    "data=[]\n",
    "for i in range(2,300):\n",
    "    ank3=yaya.format(i)\n",
    "    try:\n",
    "        result2=driver.find_element_by_xpath(ank3).text\n",
    "        data.append(result2)\n",
    "    except:\n",
    "        pass\n"
   ]
  },
  {
   "cell_type": "code",
   "execution_count": 118,
   "metadata": {},
   "outputs": [],
   "source": [
    "datap=pd.DataFrame(data,columns=[\"rawdata\"])"
   ]
  },
  {
   "cell_type": "code",
   "execution_count": 119,
   "metadata": {},
   "outputs": [],
   "source": [
    "d1=datap[\"rawdata\"].str.split(pat='\\n',n=3,expand=True)"
   ]
  },
  {
   "cell_type": "code",
   "execution_count": 120,
   "metadata": {},
   "outputs": [
    {
     "data": {
      "text/plain": [
       "426"
      ]
     },
     "execution_count": 120,
     "metadata": {},
     "output_type": "execute_result"
    }
   ],
   "source": [
    "final3=pd.concat([final3,d1],ignore_index=True)\n",
    "len(final3)"
   ]
  },
  {
   "cell_type": "code",
   "execution_count": 80,
   "metadata": {},
   "outputs": [],
   "source": [
    "# final3=d1"
   ]
  },
  {
   "cell_type": "code",
   "execution_count": 121,
   "metadata": {},
   "outputs": [],
   "source": [
    "final3.to_excel(\"kitchenware.xlsx\")"
   ]
  },
  {
   "cell_type": "code",
   "execution_count": null,
   "metadata": {},
   "outputs": [],
   "source": []
  }
 ],
 "metadata": {
  "kernelspec": {
   "display_name": "Python 3",
   "language": "python",
   "name": "python3"
  },
  "language_info": {
   "codemirror_mode": {
    "name": "ipython",
    "version": 3
   },
   "file_extension": ".py",
   "mimetype": "text/x-python",
   "name": "python",
   "nbconvert_exporter": "python",
   "pygments_lexer": "ipython3",
   "version": "3.7.1"
  }
 },
 "nbformat": 4,
 "nbformat_minor": 2
}
