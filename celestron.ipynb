{
 "cells": [
  {
   "cell_type": "code",
   "execution_count": 6,
   "metadata": {},
   "outputs": [],
   "source": [
    "from bs4 import BeautifulSoup\n",
    "import requests\n",
    "import pandas as pd\n",
    "import time"
   ]
  },
  {
   "cell_type": "code",
   "execution_count": 2,
   "metadata": {},
   "outputs": [],
   "source": [
    "from selenium import webdriver"
   ]
  },
  {
   "cell_type": "code",
   "execution_count": 3,
   "metadata": {},
   "outputs": [],
   "source": [
    "import os\n",
    "os.chdir(\"D:\\\\ankit gupta\\\\New folder\\\\eby and amazon .com\\\\msme\")"
   ]
  },
  {
   "cell_type": "code",
   "execution_count": 5,
   "metadata": {},
   "outputs": [],
   "source": [
    "from webdriver_manager.chrome import ChromeDriverManager"
   ]
  },
  {
   "cell_type": "code",
   "execution_count": 158,
   "metadata": {},
   "outputs": [],
   "source": [
    "driver = webdriver.Chrome(\"D:\\\\ankit gupta\\\\chromedriver\")"
   ]
  },
  {
   "cell_type": "code",
   "execution_count": 8,
   "metadata": {},
   "outputs": [],
   "source": [
    "yaya=\"/html/body/main/div[2]/div[5]/ul/li[{}]\"\n",
    "data=[]\n",
    "for i in range(1,26):\n",
    "    a=yaya.format(i)\n",
    "    r=driver.find_element_by_xpath(a).text\n",
    "    data.append(r)\n"
   ]
  },
  {
   "cell_type": "code",
   "execution_count": 10,
   "metadata": {},
   "outputs": [],
   "source": [
    "datap=pd.DataFrame(data,columns=[\"rawdata\"])"
   ]
  },
  {
   "cell_type": "code",
   "execution_count": 13,
   "metadata": {},
   "outputs": [],
   "source": [
    "d1=datap[\"rawdata\"].str.split(pat=\"\\n\",n=4,expand=True)"
   ]
  },
  {
   "cell_type": "code",
   "execution_count": 14,
   "metadata": {},
   "outputs": [],
   "source": [
    "d1.to_excel(\"celeston.xlsx\")"
   ]
  },
  {
   "cell_type": "code",
   "execution_count": 149,
   "metadata": {},
   "outputs": [],
   "source": [
    "com=\"/html/body/div/div[3]/div/div/div[2]/div/div[{}]/div/h3\"\n",
    "add=\"/html/body/div/div[3]/div/div/div[2]/div/div[{}]/div/p\"\n",
    "num=\"/html/body/div/div[3]/div/div/div[2]/div/div[{}]/a/p[1]\"\n",
    "company=[]\n",
    "address=[]\n",
    "number=[]\n",
    "for i in range(1,200):\n",
    "    a1=com.format(i)\n",
    "    try:\n",
    "        r=driver.find_element_by_xpath(a1).text\n",
    "        company.append(r)\n",
    "    except:\n",
    "        pass\n",
    "for i in range(1,200):\n",
    "    a2=add.format(i)\n",
    "    try:\n",
    "        r2=driver.find_element_by_xpath(a2).text\n",
    "        address.append(r2)\n",
    "    except:\n",
    "        pass\n",
    "for i in range(1,200):\n",
    "    a3=num.format(i)\n",
    "    try:\n",
    "        r3=driver.find_element_by_xpath(a3).text\n",
    "        number.append(r3)\n",
    "    except:\n",
    "        pass"
   ]
  },
  {
   "cell_type": "code",
   "execution_count": 150,
   "metadata": {},
   "outputs": [],
   "source": [
    "company=pd.DataFrame(company,columns=[\"company\"])"
   ]
  },
  {
   "cell_type": "code",
   "execution_count": 151,
   "metadata": {},
   "outputs": [],
   "source": [
    "address=pd.DataFrame(address,columns=[\"address\"])"
   ]
  },
  {
   "cell_type": "code",
   "execution_count": 152,
   "metadata": {},
   "outputs": [],
   "source": [
    "number=pd.DataFrame(number,columns=[\"number\"])"
   ]
  },
  {
   "cell_type": "code",
   "execution_count": 153,
   "metadata": {},
   "outputs": [],
   "source": [
    "detail=[company,address,number]"
   ]
  },
  {
   "cell_type": "code",
   "execution_count": 154,
   "metadata": {},
   "outputs": [],
   "source": [
    "details=pd.concat(detail,axis=1)"
   ]
  },
  {
   "cell_type": "code",
   "execution_count": 155,
   "metadata": {},
   "outputs": [
    {
     "data": {
      "text/html": [
       "<div>\n",
       "<style scoped>\n",
       "    .dataframe tbody tr th:only-of-type {\n",
       "        vertical-align: middle;\n",
       "    }\n",
       "\n",
       "    .dataframe tbody tr th {\n",
       "        vertical-align: top;\n",
       "    }\n",
       "\n",
       "    .dataframe thead th {\n",
       "        text-align: right;\n",
       "    }\n",
       "</style>\n",
       "<table border=\"1\" class=\"dataframe\">\n",
       "  <thead>\n",
       "    <tr style=\"text-align: right;\">\n",
       "      <th></th>\n",
       "      <th>company</th>\n",
       "      <th>address</th>\n",
       "      <th>number</th>\n",
       "    </tr>\n",
       "  </thead>\n",
       "  <tbody>\n",
       "    <tr>\n",
       "      <th>0</th>\n",
       "      <td>BOVA CUCINE</td>\n",
       "      <td>Hafele Studio Partner, 101, Silver Radiance On...</td>\n",
       "      <td>Contact No: 9727774044 ,972777403</td>\n",
       "    </tr>\n",
       "    <tr>\n",
       "      <th>1</th>\n",
       "      <td>CERAMICA</td>\n",
       "      <td>230, Lotus Elite Next to old gotri jakatnaka, ...</td>\n",
       "      <td>Contact No: 9824027850</td>\n",
       "    </tr>\n",
       "    <tr>\n",
       "      <th>2</th>\n",
       "      <td>DEEP KITCHEN WORLD</td>\n",
       "      <td>Hafele Design Studio, 5,6,7,8 Jayant Apartment...</td>\n",
       "      <td>Contact No: 9867690905 / 9867788772</td>\n",
       "    </tr>\n",
       "    <tr>\n",
       "      <th>3</th>\n",
       "      <td>EDGE HARDWARE</td>\n",
       "      <td>Hafele Design Studio, UG 4,5,6 Royal Platinum ...</td>\n",
       "      <td>Contact No: 9826428844</td>\n",
       "    </tr>\n",
       "    <tr>\n",
       "      <th>4</th>\n",
       "      <td>GEETA HARDWARE</td>\n",
       "      <td>Hafele Design Studio, 36-C, Geeta Chambers Zon...</td>\n",
       "      <td>Contact No: 9993555445</td>\n",
       "    </tr>\n",
       "    <tr>\n",
       "      <th>5</th>\n",
       "      <td>HOUZZ INTERIOR</td>\n",
       "      <td>Shop No: 12,3,4, Near Dhiraj &amp; Sons, Hakimji M...</td>\n",
       "      <td>Contact No: 8160232161 / 9925155786</td>\n",
       "    </tr>\n",
       "    <tr>\n",
       "      <th>6</th>\n",
       "      <td>IDEAL HARDWARE</td>\n",
       "      <td>51/52, Navmangalam Cmpl, Opp Reliance Fresh, C...</td>\n",
       "      <td>Contact No: 9099125102</td>\n",
       "    </tr>\n",
       "    <tr>\n",
       "      <th>7</th>\n",
       "      <td>KAAIROS BY KITCHEN STUDIO</td>\n",
       "      <td>Hafele Studio Partner,No: 4, Ramchandra Patil ...</td>\n",
       "      <td>Contact No: 9820134253</td>\n",
       "    </tr>\n",
       "    <tr>\n",
       "      <th>8</th>\n",
       "      <td>K . D. SONS</td>\n",
       "      <td>6, Khushboo Corner,56, Vishwas Colony, Alkapur...</td>\n",
       "      <td>Contact No: 9879528877</td>\n",
       "    </tr>\n",
       "    <tr>\n",
       "      <th>9</th>\n",
       "      <td>LUIS &amp; CO.</td>\n",
       "      <td>Hafele Design Studio, Shop S/8 - S/10, Opp SBI...</td>\n",
       "      <td>Contact No: 9822581481</td>\n",
       "    </tr>\n",
       "    <tr>\n",
       "      <th>10</th>\n",
       "      <td>LAXMI HOME APPLIANCES</td>\n",
       "      <td>Vega Center, Shankar Seth Rd, Swarget, Pune, M...</td>\n",
       "      <td>Contact No: 7028997820 / 9890720947</td>\n",
       "    </tr>\n",
       "    <tr>\n",
       "      <th>11</th>\n",
       "      <td>NAVJIVAN HARDWARE</td>\n",
       "      <td>Hafele Design Studio, 20 &amp; 26, Grain Merchants...</td>\n",
       "      <td>Contact No: 9821219895 / 9821115985</td>\n",
       "    </tr>\n",
       "    <tr>\n",
       "      <th>12</th>\n",
       "      <td>N.R.INNOVATIONS</td>\n",
       "      <td>Shubham galleria, shop no 105, Above 24 karats...</td>\n",
       "      <td>Contact No: 9607927670</td>\n",
       "    </tr>\n",
       "    <tr>\n",
       "      <th>13</th>\n",
       "      <td>VELOCITAS</td>\n",
       "      <td>Showroom no. 2, ground floor, Shilp aaron, opp...</td>\n",
       "      <td>Contact No: 9376170707</td>\n",
       "    </tr>\n",
       "    <tr>\n",
       "      <th>14</th>\n",
       "      <td>QUBIQ HARDWARE</td>\n",
       "      <td>Hafele Design Studio, 2,3, Vishram apartment, ...</td>\n",
       "      <td>Contact No: 8655576555</td>\n",
       "    </tr>\n",
       "    <tr>\n",
       "      <th>15</th>\n",
       "      <td>SPACE HARDWARE &amp; DESIGNS PVT LTD</td>\n",
       "      <td>Hafele Design Studio, Mohan Mill Compound, Nea...</td>\n",
       "      <td>Contact No: 8422886727, 8422886728</td>\n",
       "    </tr>\n",
       "    <tr>\n",
       "      <th>16</th>\n",
       "      <td>TATWAM HARDWARE STUDIO</td>\n",
       "      <td>150 ring road, near fortune hotel, Near Astha ...</td>\n",
       "      <td>Contact No: 9712946611</td>\n",
       "    </tr>\n",
       "    <tr>\n",
       "      <th>17</th>\n",
       "      <td>THE KITCHEN</td>\n",
       "      <td>Hafele Design Studio, 671E Vasant Ratna, Shahu...</td>\n",
       "      <td>Contact No: 9623439399</td>\n",
       "    </tr>\n",
       "    <tr>\n",
       "      <th>18</th>\n",
       "      <td>UNIQUE HARDWARE SOLUTIONS</td>\n",
       "      <td>Hafele Design Studio, CTS No. 12980/1, H No. 0...</td>\n",
       "      <td>Contact No: 9422565911 , 9423150007</td>\n",
       "    </tr>\n",
       "    <tr>\n",
       "      <th>19</th>\n",
       "      <td>VEDSONS</td>\n",
       "      <td>61, Lakadganj Telephone Exchange Square, Near ...</td>\n",
       "      <td>Contact No: 9422804374, 9373108205</td>\n",
       "    </tr>\n",
       "  </tbody>\n",
       "</table>\n",
       "</div>"
      ],
      "text/plain": [
       "                             company  \\\n",
       "0                        BOVA CUCINE   \n",
       "1                           CERAMICA   \n",
       "2                 DEEP KITCHEN WORLD   \n",
       "3                      EDGE HARDWARE   \n",
       "4                     GEETA HARDWARE   \n",
       "5                     HOUZZ INTERIOR   \n",
       "6                     IDEAL HARDWARE   \n",
       "7          KAAIROS BY KITCHEN STUDIO   \n",
       "8                        K . D. SONS   \n",
       "9                         LUIS & CO.   \n",
       "10             LAXMI HOME APPLIANCES   \n",
       "11                 NAVJIVAN HARDWARE   \n",
       "12                   N.R.INNOVATIONS   \n",
       "13                         VELOCITAS   \n",
       "14                    QUBIQ HARDWARE   \n",
       "15  SPACE HARDWARE & DESIGNS PVT LTD   \n",
       "16            TATWAM HARDWARE STUDIO   \n",
       "17                       THE KITCHEN   \n",
       "18         UNIQUE HARDWARE SOLUTIONS   \n",
       "19                           VEDSONS   \n",
       "\n",
       "                                              address  \\\n",
       "0   Hafele Studio Partner, 101, Silver Radiance On...   \n",
       "1   230, Lotus Elite Next to old gotri jakatnaka, ...   \n",
       "2   Hafele Design Studio, 5,6,7,8 Jayant Apartment...   \n",
       "3   Hafele Design Studio, UG 4,5,6 Royal Platinum ...   \n",
       "4   Hafele Design Studio, 36-C, Geeta Chambers Zon...   \n",
       "5   Shop No: 12,3,4, Near Dhiraj & Sons, Hakimji M...   \n",
       "6   51/52, Navmangalam Cmpl, Opp Reliance Fresh, C...   \n",
       "7   Hafele Studio Partner,No: 4, Ramchandra Patil ...   \n",
       "8   6, Khushboo Corner,56, Vishwas Colony, Alkapur...   \n",
       "9   Hafele Design Studio, Shop S/8 - S/10, Opp SBI...   \n",
       "10  Vega Center, Shankar Seth Rd, Swarget, Pune, M...   \n",
       "11  Hafele Design Studio, 20 & 26, Grain Merchants...   \n",
       "12  Shubham galleria, shop no 105, Above 24 karats...   \n",
       "13  Showroom no. 2, ground floor, Shilp aaron, opp...   \n",
       "14  Hafele Design Studio, 2,3, Vishram apartment, ...   \n",
       "15  Hafele Design Studio, Mohan Mill Compound, Nea...   \n",
       "16  150 ring road, near fortune hotel, Near Astha ...   \n",
       "17  Hafele Design Studio, 671E Vasant Ratna, Shahu...   \n",
       "18  Hafele Design Studio, CTS No. 12980/1, H No. 0...   \n",
       "19  61, Lakadganj Telephone Exchange Square, Near ...   \n",
       "\n",
       "                                 number  \n",
       "0     Contact No: 9727774044 ,972777403  \n",
       "1                Contact No: 9824027850  \n",
       "2   Contact No: 9867690905 / 9867788772  \n",
       "3                Contact No: 9826428844  \n",
       "4                Contact No: 9993555445  \n",
       "5   Contact No: 8160232161 / 9925155786  \n",
       "6                Contact No: 9099125102  \n",
       "7                Contact No: 9820134253  \n",
       "8                Contact No: 9879528877  \n",
       "9                Contact No: 9822581481  \n",
       "10  Contact No: 7028997820 / 9890720947  \n",
       "11  Contact No: 9821219895 / 9821115985  \n",
       "12               Contact No: 9607927670  \n",
       "13               Contact No: 9376170707  \n",
       "14               Contact No: 8655576555  \n",
       "15   Contact No: 8422886727, 8422886728  \n",
       "16               Contact No: 9712946611  \n",
       "17               Contact No: 9623439399  \n",
       "18  Contact No: 9422565911 , 9423150007  \n",
       "19   Contact No: 9422804374, 9373108205  "
      ]
     },
     "execution_count": 155,
     "metadata": {},
     "output_type": "execute_result"
    }
   ],
   "source": [
    "details"
   ]
  },
  {
   "cell_type": "code",
   "execution_count": 156,
   "metadata": {},
   "outputs": [
    {
     "data": {
      "text/plain": [
       "80"
      ]
     },
     "execution_count": 156,
     "metadata": {},
     "output_type": "execute_result"
    }
   ],
   "source": [
    "final=pd.concat([final,details],ignore_index=True)\n",
    "len(final)"
   ]
  },
  {
   "cell_type": "code",
   "execution_count": 124,
   "metadata": {},
   "outputs": [],
   "source": [
    "# final=details"
   ]
  },
  {
   "cell_type": "code",
   "execution_count": 157,
   "metadata": {},
   "outputs": [],
   "source": [
    "final.to_excel(\"hafeleindia.xlsx\")"
   ]
  },
  {
   "cell_type": "code",
   "execution_count": null,
   "metadata": {},
   "outputs": [],
   "source": []
  }
 ],
 "metadata": {
  "kernelspec": {
   "display_name": "Python 3",
   "language": "python",
   "name": "python3"
  },
  "language_info": {
   "codemirror_mode": {
    "name": "ipython",
    "version": 3
   },
   "file_extension": ".py",
   "mimetype": "text/x-python",
   "name": "python",
   "nbconvert_exporter": "python",
   "pygments_lexer": "ipython3",
   "version": "3.7.1"
  }
 },
 "nbformat": 4,
 "nbformat_minor": 2
}
