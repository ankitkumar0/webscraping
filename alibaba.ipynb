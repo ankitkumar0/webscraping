{
 "cells": [
  {
   "cell_type": "code",
   "execution_count": 1,
   "metadata": {},
   "outputs": [],
   "source": [
    "from bs4 import BeautifulSoup\n",
    "import requests\n",
    "import pandas as pd"
   ]
  },
  {
   "cell_type": "code",
   "execution_count": 2,
   "metadata": {},
   "outputs": [],
   "source": [
    "from selenium import webdriver"
   ]
  },
  {
   "cell_type": "code",
   "execution_count": 243,
   "metadata": {},
   "outputs": [],
   "source": [
    "import os\n",
    "os.chdir('D:\\\\ankit gupta\\\\New folder\\\\eby and amazon .com\\\\alibaba mandala  tapestry')"
   ]
  },
  {
   "cell_type": "code",
   "execution_count": 244,
   "metadata": {},
   "outputs": [],
   "source": [
    "from webdriver_manager.chrome import ChromeDriverManager"
   ]
  },
  {
   "cell_type": "code",
   "execution_count": 245,
   "metadata": {},
   "outputs": [
    {
     "ename": "ModuleNotFoundError",
     "evalue": "No module named 'fake_useragent'",
     "output_type": "error",
     "traceback": [
      "\u001b[1;31m---------------------------------------------------------------------------\u001b[0m",
      "\u001b[1;31mModuleNotFoundError\u001b[0m                       Traceback (most recent call last)",
      "\u001b[1;32m<ipython-input-245-ae355f32434e>\u001b[0m in \u001b[0;36m<module>\u001b[1;34m\u001b[0m\n\u001b[0;32m      1\u001b[0m \u001b[1;32mimport\u001b[0m \u001b[0mrequests\u001b[0m\u001b[1;33m\u001b[0m\u001b[1;33m\u001b[0m\u001b[0m\n\u001b[1;32m----> 2\u001b[1;33m \u001b[1;32mfrom\u001b[0m \u001b[0mfake_useragent\u001b[0m \u001b[1;32mimport\u001b[0m \u001b[0mUserAgent\u001b[0m\u001b[1;33m\u001b[0m\u001b[1;33m\u001b[0m\u001b[0m\n\u001b[0m\u001b[0;32m      3\u001b[0m \u001b[1;32mfrom\u001b[0m \u001b[0muser_agents\u001b[0m \u001b[1;32mimport\u001b[0m \u001b[0mparse\u001b[0m\u001b[1;33m\u001b[0m\u001b[1;33m\u001b[0m\u001b[0m\n\u001b[0;32m      4\u001b[0m \u001b[1;32mimport\u001b[0m \u001b[0mpandas\u001b[0m \u001b[1;32mas\u001b[0m \u001b[0mpd\u001b[0m\u001b[1;33m\u001b[0m\u001b[1;33m\u001b[0m\u001b[0m\n\u001b[0;32m      5\u001b[0m \u001b[1;32mimport\u001b[0m \u001b[0mbs4\u001b[0m\u001b[1;33m\u001b[0m\u001b[1;33m\u001b[0m\u001b[0m\n",
      "\u001b[1;31mModuleNotFoundError\u001b[0m: No module named 'fake_useragent'"
     ]
    }
   ],
   "source": [
    "import requests\n",
    "from fake_useragent import UserAgent\n",
    "from user_agents import parse\n",
    "import pandas as pd\n",
    "import bs4\n",
    "import time\n",
    "import numpy as np\n",
    "from selenium.webdriver.common.desired_capabilities import DesiredCapabilities\n",
    "import urllib\n",
    "from selenium.webdriver.support import expected_conditions as EC\n",
    "from selenium.webdriver.common.by import By\n",
    "from selenium.webdriver.support.wait import WebDriverWait"
   ]
  },
  {
   "cell_type": "code",
   "execution_count": 10,
   "metadata": {},
   "outputs": [],
   "source": [
    "import csv\n",
    "# from msedge.selenium_tools import Edge ,EdgeOptions"
   ]
  },
  {
   "cell_type": "code",
   "execution_count": 5,
   "metadata": {},
   "outputs": [],
   "source": [
    "from webdriver_manager.chrome import ChromeDriverManager"
   ]
  },
  {
   "cell_type": "code",
   "execution_count": 7,
   "metadata": {},
   "outputs": [],
   "source": [
    "from selenium import webdriver\n",
    "from selenium.webdriver.support import expected_conditions as EC\n",
    "from selenium.webdriver.common.by import By\n",
    "from selenium.webdriver.support.wait import WebDriverWait"
   ]
  },
  {
   "cell_type": "code",
   "execution_count": 636,
   "metadata": {},
   "outputs": [],
   "source": [
    "driver = webdriver.Chrome(\"D:\\\\ankit gupta\\\\chromedriver\")"
   ]
  },
  {
   "cell_type": "code",
   "execution_count": 637,
   "metadata": {},
   "outputs": [],
   "source": [
    "driver.get(\"https://www.alibaba.com/products/mandala_tapestry.html?IndexArea=product_en&page=29&Country=IN&param_order=CNTRY-IN\")"
   ]
  },
  {
   "cell_type": "code",
   "execution_count": 638,
   "metadata": {},
   "outputs": [],
   "source": [
    "productinfolist=driver.find_elements_by_class_name(\"elements-title-normal__outter\")"
   ]
  },
  {
   "cell_type": "code",
   "execution_count": 639,
   "metadata": {},
   "outputs": [],
   "source": [
    "categoryname=[]\n",
    "for el in productinfolist:\n",
    "    ppp1=el.text\n",
    "    \n",
    "#     ppp2.get_property(\"href\")\n",
    "    categoryname.append(ppp1)\n",
    "    "
   ]
  },
  {
   "cell_type": "code",
   "execution_count": 640,
   "metadata": {},
   "outputs": [],
   "source": [
    "datac=pd.DataFrame(categoryname,columns=[\"categoryname\"])"
   ]
  },
  {
   "cell_type": "code",
   "execution_count": 641,
   "metadata": {},
   "outputs": [],
   "source": [
    "productinfolist2=driver.find_elements_by_class_name(\"fc3\")\n"
   ]
  },
  {
   "cell_type": "code",
   "execution_count": 642,
   "metadata": {},
   "outputs": [],
   "source": [
    "pp=productinfolist2[0]\n"
   ]
  },
  {
   "cell_type": "code",
   "execution_count": 643,
   "metadata": {},
   "outputs": [],
   "source": [
    "listoflink=[]\n",
    "for el in productinfolist2:\n",
    "    \n",
    "    listoflink.append(el.get_property(\"href\"))\n",
    "    \n",
    "#     ppp2.get_property(\"href\")\n",
    "    \n",
    "    "
   ]
  },
  {
   "cell_type": "code",
   "execution_count": 644,
   "metadata": {},
   "outputs": [],
   "source": [
    "data1=pd.DataFrame(listoflink,columns=[\"listoflink\"])"
   ]
  },
  {
   "cell_type": "code",
   "execution_count": 645,
   "metadata": {},
   "outputs": [],
   "source": [
    "data2=data1[\"listoflink\"].str.replace('company_profile','contactinfo')"
   ]
  },
  {
   "cell_type": "code",
   "execution_count": 646,
   "metadata": {},
   "outputs": [],
   "source": [
    "alibaba = [datac,data2]"
   ]
  },
  {
   "cell_type": "code",
   "execution_count": 647,
   "metadata": {},
   "outputs": [],
   "source": [
    "result= pd.concat(alibaba, axis=1 )"
   ]
  },
  {
   "cell_type": "code",
   "execution_count": 648,
   "metadata": {},
   "outputs": [],
   "source": [
    "# final=result"
   ]
  },
  {
   "cell_type": "code",
   "execution_count": 649,
   "metadata": {},
   "outputs": [],
   "source": [
    "final=pd.concat([final,result],ignore_index=True)"
   ]
  },
  {
   "cell_type": "code",
   "execution_count": 650,
   "metadata": {},
   "outputs": [
    {
     "data": {
      "text/plain": [
       "1344"
      ]
     },
     "execution_count": 650,
     "metadata": {},
     "output_type": "execute_result"
    }
   ],
   "source": [
    "len(final)"
   ]
  },
  {
   "cell_type": "code",
   "execution_count": 652,
   "metadata": {},
   "outputs": [],
   "source": [
    "final.to_excel('mandala tespestry4.xlsx')"
   ]
  },
  {
   "cell_type": "code",
   "execution_count": null,
   "metadata": {},
   "outputs": [],
   "source": []
  },
  {
   "cell_type": "code",
   "execution_count": null,
   "metadata": {},
   "outputs": [],
   "source": []
  },
  {
   "cell_type": "code",
   "execution_count": null,
   "metadata": {},
   "outputs": [],
   "source": []
  },
  {
   "cell_type": "code",
   "execution_count": null,
   "metadata": {},
   "outputs": [],
   "source": []
  },
  {
   "cell_type": "code",
   "execution_count": null,
   "metadata": {},
   "outputs": [],
   "source": []
  },
  {
   "cell_type": "code",
   "execution_count": 251,
   "metadata": {},
   "outputs": [],
   "source": [
    "# productinfolist[0].text"
   ]
  },
  {
   "cell_type": "code",
   "execution_count": 252,
   "metadata": {},
   "outputs": [],
   "source": [
    "ppp=productinfolist[0].text"
   ]
  },
  {
   "cell_type": "code",
   "execution_count": 253,
   "metadata": {},
   "outputs": [
    {
     "data": {
      "text/plain": [
       "'Medieval Full Suit of Armor/Armour Reenactment Collectibles Full Body Suit 6 Feet Full Armor With Stand'"
      ]
     },
     "execution_count": 253,
     "metadata": {},
     "output_type": "execute_result"
    }
   ],
   "source": [
    "ppp"
   ]
  },
  {
   "cell_type": "code",
   "execution_count": 241,
   "metadata": {
    "collapsed": true
   },
   "outputs": [
    {
     "ename": "NoSuchElementException",
     "evalue": "Message: no such element: Unable to locate element: {\"method\":\"css selector\",\"selector\":\"h4\"}\n  (Session info: chrome=87.0.4280.88)\n",
     "output_type": "error",
     "traceback": [
      "\u001b[1;31m---------------------------------------------------------------------------\u001b[0m",
      "\u001b[1;31mNoSuchElementException\u001b[0m                    Traceback (most recent call last)",
      "\u001b[1;32m<ipython-input-241-02d0407fcec0>\u001b[0m in \u001b[0;36m<module>\u001b[1;34m\u001b[0m\n\u001b[1;32m----> 1\u001b[1;33m \u001b[0mppp1\u001b[0m\u001b[1;33m=\u001b[0m\u001b[0mppp\u001b[0m\u001b[1;33m.\u001b[0m\u001b[0mfind_element_by_tag_name\u001b[0m\u001b[1;33m(\u001b[0m\u001b[1;34m\"h4\"\u001b[0m\u001b[1;33m)\u001b[0m\u001b[1;33m.\u001b[0m\u001b[0mtext\u001b[0m\u001b[1;33m\u001b[0m\u001b[1;33m\u001b[0m\u001b[0m\n\u001b[0m",
      "\u001b[1;32mC:\\ProgramData\\Anaconda3\\lib\\site-packages\\selenium\\webdriver\\remote\\webelement.py\u001b[0m in \u001b[0;36mfind_element_by_tag_name\u001b[1;34m(self, name)\u001b[0m\n\u001b[0;32m    303\u001b[0m             \u001b[0melement\u001b[0m \u001b[1;33m=\u001b[0m \u001b[0melement\u001b[0m\u001b[1;33m.\u001b[0m\u001b[0mfind_element_by_tag_name\u001b[0m\u001b[1;33m(\u001b[0m\u001b[1;34m'h1'\u001b[0m\u001b[1;33m)\u001b[0m\u001b[1;33m\u001b[0m\u001b[1;33m\u001b[0m\u001b[0m\n\u001b[0;32m    304\u001b[0m         \"\"\"\n\u001b[1;32m--> 305\u001b[1;33m         \u001b[1;32mreturn\u001b[0m \u001b[0mself\u001b[0m\u001b[1;33m.\u001b[0m\u001b[0mfind_element\u001b[0m\u001b[1;33m(\u001b[0m\u001b[0mby\u001b[0m\u001b[1;33m=\u001b[0m\u001b[0mBy\u001b[0m\u001b[1;33m.\u001b[0m\u001b[0mTAG_NAME\u001b[0m\u001b[1;33m,\u001b[0m \u001b[0mvalue\u001b[0m\u001b[1;33m=\u001b[0m\u001b[0mname\u001b[0m\u001b[1;33m)\u001b[0m\u001b[1;33m\u001b[0m\u001b[1;33m\u001b[0m\u001b[0m\n\u001b[0m\u001b[0;32m    306\u001b[0m \u001b[1;33m\u001b[0m\u001b[0m\n\u001b[0;32m    307\u001b[0m     \u001b[1;32mdef\u001b[0m \u001b[0mfind_elements_by_tag_name\u001b[0m\u001b[1;33m(\u001b[0m\u001b[0mself\u001b[0m\u001b[1;33m,\u001b[0m \u001b[0mname\u001b[0m\u001b[1;33m)\u001b[0m\u001b[1;33m:\u001b[0m\u001b[1;33m\u001b[0m\u001b[1;33m\u001b[0m\u001b[0m\n",
      "\u001b[1;32mC:\\ProgramData\\Anaconda3\\lib\\site-packages\\selenium\\webdriver\\remote\\webelement.py\u001b[0m in \u001b[0;36mfind_element\u001b[1;34m(self, by, value)\u001b[0m\n\u001b[0;32m    657\u001b[0m \u001b[1;33m\u001b[0m\u001b[0m\n\u001b[0;32m    658\u001b[0m         return self._execute(Command.FIND_CHILD_ELEMENT,\n\u001b[1;32m--> 659\u001b[1;33m                              {\"using\": by, \"value\": value})['value']\n\u001b[0m\u001b[0;32m    660\u001b[0m \u001b[1;33m\u001b[0m\u001b[0m\n\u001b[0;32m    661\u001b[0m     \u001b[1;32mdef\u001b[0m \u001b[0mfind_elements\u001b[0m\u001b[1;33m(\u001b[0m\u001b[0mself\u001b[0m\u001b[1;33m,\u001b[0m \u001b[0mby\u001b[0m\u001b[1;33m=\u001b[0m\u001b[0mBy\u001b[0m\u001b[1;33m.\u001b[0m\u001b[0mID\u001b[0m\u001b[1;33m,\u001b[0m \u001b[0mvalue\u001b[0m\u001b[1;33m=\u001b[0m\u001b[1;32mNone\u001b[0m\u001b[1;33m)\u001b[0m\u001b[1;33m:\u001b[0m\u001b[1;33m\u001b[0m\u001b[1;33m\u001b[0m\u001b[0m\n",
      "\u001b[1;32mC:\\ProgramData\\Anaconda3\\lib\\site-packages\\selenium\\webdriver\\remote\\webelement.py\u001b[0m in \u001b[0;36m_execute\u001b[1;34m(self, command, params)\u001b[0m\n\u001b[0;32m    631\u001b[0m             \u001b[0mparams\u001b[0m \u001b[1;33m=\u001b[0m \u001b[1;33m{\u001b[0m\u001b[1;33m}\u001b[0m\u001b[1;33m\u001b[0m\u001b[1;33m\u001b[0m\u001b[0m\n\u001b[0;32m    632\u001b[0m         \u001b[0mparams\u001b[0m\u001b[1;33m[\u001b[0m\u001b[1;34m'id'\u001b[0m\u001b[1;33m]\u001b[0m \u001b[1;33m=\u001b[0m \u001b[0mself\u001b[0m\u001b[1;33m.\u001b[0m\u001b[0m_id\u001b[0m\u001b[1;33m\u001b[0m\u001b[1;33m\u001b[0m\u001b[0m\n\u001b[1;32m--> 633\u001b[1;33m         \u001b[1;32mreturn\u001b[0m \u001b[0mself\u001b[0m\u001b[1;33m.\u001b[0m\u001b[0m_parent\u001b[0m\u001b[1;33m.\u001b[0m\u001b[0mexecute\u001b[0m\u001b[1;33m(\u001b[0m\u001b[0mcommand\u001b[0m\u001b[1;33m,\u001b[0m \u001b[0mparams\u001b[0m\u001b[1;33m)\u001b[0m\u001b[1;33m\u001b[0m\u001b[1;33m\u001b[0m\u001b[0m\n\u001b[0m\u001b[0;32m    634\u001b[0m \u001b[1;33m\u001b[0m\u001b[0m\n\u001b[0;32m    635\u001b[0m     \u001b[1;32mdef\u001b[0m \u001b[0mfind_element\u001b[0m\u001b[1;33m(\u001b[0m\u001b[0mself\u001b[0m\u001b[1;33m,\u001b[0m \u001b[0mby\u001b[0m\u001b[1;33m=\u001b[0m\u001b[0mBy\u001b[0m\u001b[1;33m.\u001b[0m\u001b[0mID\u001b[0m\u001b[1;33m,\u001b[0m \u001b[0mvalue\u001b[0m\u001b[1;33m=\u001b[0m\u001b[1;32mNone\u001b[0m\u001b[1;33m)\u001b[0m\u001b[1;33m:\u001b[0m\u001b[1;33m\u001b[0m\u001b[1;33m\u001b[0m\u001b[0m\n",
      "\u001b[1;32mC:\\ProgramData\\Anaconda3\\lib\\site-packages\\selenium\\webdriver\\remote\\webdriver.py\u001b[0m in \u001b[0;36mexecute\u001b[1;34m(self, driver_command, params)\u001b[0m\n\u001b[0;32m    319\u001b[0m         \u001b[0mresponse\u001b[0m \u001b[1;33m=\u001b[0m \u001b[0mself\u001b[0m\u001b[1;33m.\u001b[0m\u001b[0mcommand_executor\u001b[0m\u001b[1;33m.\u001b[0m\u001b[0mexecute\u001b[0m\u001b[1;33m(\u001b[0m\u001b[0mdriver_command\u001b[0m\u001b[1;33m,\u001b[0m \u001b[0mparams\u001b[0m\u001b[1;33m)\u001b[0m\u001b[1;33m\u001b[0m\u001b[1;33m\u001b[0m\u001b[0m\n\u001b[0;32m    320\u001b[0m         \u001b[1;32mif\u001b[0m \u001b[0mresponse\u001b[0m\u001b[1;33m:\u001b[0m\u001b[1;33m\u001b[0m\u001b[1;33m\u001b[0m\u001b[0m\n\u001b[1;32m--> 321\u001b[1;33m             \u001b[0mself\u001b[0m\u001b[1;33m.\u001b[0m\u001b[0merror_handler\u001b[0m\u001b[1;33m.\u001b[0m\u001b[0mcheck_response\u001b[0m\u001b[1;33m(\u001b[0m\u001b[0mresponse\u001b[0m\u001b[1;33m)\u001b[0m\u001b[1;33m\u001b[0m\u001b[1;33m\u001b[0m\u001b[0m\n\u001b[0m\u001b[0;32m    322\u001b[0m             response['value'] = self._unwrap_value(\n\u001b[0;32m    323\u001b[0m                 response.get('value', None))\n",
      "\u001b[1;32mC:\\ProgramData\\Anaconda3\\lib\\site-packages\\selenium\\webdriver\\remote\\errorhandler.py\u001b[0m in \u001b[0;36mcheck_response\u001b[1;34m(self, response)\u001b[0m\n\u001b[0;32m    240\u001b[0m                 \u001b[0malert_text\u001b[0m \u001b[1;33m=\u001b[0m \u001b[0mvalue\u001b[0m\u001b[1;33m[\u001b[0m\u001b[1;34m'alert'\u001b[0m\u001b[1;33m]\u001b[0m\u001b[1;33m.\u001b[0m\u001b[0mget\u001b[0m\u001b[1;33m(\u001b[0m\u001b[1;34m'text'\u001b[0m\u001b[1;33m)\u001b[0m\u001b[1;33m\u001b[0m\u001b[1;33m\u001b[0m\u001b[0m\n\u001b[0;32m    241\u001b[0m             \u001b[1;32mraise\u001b[0m \u001b[0mexception_class\u001b[0m\u001b[1;33m(\u001b[0m\u001b[0mmessage\u001b[0m\u001b[1;33m,\u001b[0m \u001b[0mscreen\u001b[0m\u001b[1;33m,\u001b[0m \u001b[0mstacktrace\u001b[0m\u001b[1;33m,\u001b[0m \u001b[0malert_text\u001b[0m\u001b[1;33m)\u001b[0m\u001b[1;33m\u001b[0m\u001b[1;33m\u001b[0m\u001b[0m\n\u001b[1;32m--> 242\u001b[1;33m         \u001b[1;32mraise\u001b[0m \u001b[0mexception_class\u001b[0m\u001b[1;33m(\u001b[0m\u001b[0mmessage\u001b[0m\u001b[1;33m,\u001b[0m \u001b[0mscreen\u001b[0m\u001b[1;33m,\u001b[0m \u001b[0mstacktrace\u001b[0m\u001b[1;33m)\u001b[0m\u001b[1;33m\u001b[0m\u001b[1;33m\u001b[0m\u001b[0m\n\u001b[0m\u001b[0;32m    243\u001b[0m \u001b[1;33m\u001b[0m\u001b[0m\n\u001b[0;32m    244\u001b[0m     \u001b[1;32mdef\u001b[0m \u001b[0m_value_or_default\u001b[0m\u001b[1;33m(\u001b[0m\u001b[0mself\u001b[0m\u001b[1;33m,\u001b[0m \u001b[0mobj\u001b[0m\u001b[1;33m,\u001b[0m \u001b[0mkey\u001b[0m\u001b[1;33m,\u001b[0m \u001b[0mdefault\u001b[0m\u001b[1;33m)\u001b[0m\u001b[1;33m:\u001b[0m\u001b[1;33m\u001b[0m\u001b[1;33m\u001b[0m\u001b[0m\n",
      "\u001b[1;31mNoSuchElementException\u001b[0m: Message: no such element: Unable to locate element: {\"method\":\"css selector\",\"selector\":\"h4\"}\n  (Session info: chrome=87.0.4280.88)\n"
     ]
    }
   ],
   "source": [
    "# ppp1=ppp.find_element_by_tag_name(\"h4\").text"
   ]
  },
  {
   "cell_type": "code",
   "execution_count": 199,
   "metadata": {},
   "outputs": [],
   "source": [
    "# ppp2=ppp1.find_element_by_tag_name(\"a\")"
   ]
  },
  {
   "cell_type": "code",
   "execution_count": 202,
   "metadata": {},
   "outputs": [],
   "source": [
    "# ppp2.get_property(\"href\")"
   ]
  },
  {
   "cell_type": "code",
   "execution_count": 271,
   "metadata": {},
   "outputs": [],
   "source": [
    "categoryname=[]\n",
    "for el in productinfolist:\n",
    "    ppp1=el.text\n",
    "    \n",
    "#     ppp2.get_property(\"href\")\n",
    "    categoryname.append(ppp1)\n",
    "    "
   ]
  },
  {
   "cell_type": "code",
   "execution_count": 272,
   "metadata": {},
   "outputs": [
    {
     "data": {
      "text/html": [
       "<div>\n",
       "<style scoped>\n",
       "    .dataframe tbody tr th:only-of-type {\n",
       "        vertical-align: middle;\n",
       "    }\n",
       "\n",
       "    .dataframe tbody tr th {\n",
       "        vertical-align: top;\n",
       "    }\n",
       "\n",
       "    .dataframe thead th {\n",
       "        text-align: right;\n",
       "    }\n",
       "</style>\n",
       "<table border=\"1\" class=\"dataframe\">\n",
       "  <thead>\n",
       "    <tr style=\"text-align: right;\">\n",
       "      <th></th>\n",
       "      <th>categoryname</th>\n",
       "    </tr>\n",
       "  </thead>\n",
       "  <tbody>\n",
       "    <tr>\n",
       "      <th>0</th>\n",
       "      <td>Collectible Beautiful Brass Antique sundial co...</td>\n",
       "    </tr>\n",
       "    <tr>\n",
       "      <th>1</th>\n",
       "      <td>Antique Marine Collectible Nautical Miner Lamp</td>\n",
       "    </tr>\n",
       "    <tr>\n",
       "      <th>2</th>\n",
       "      <td>Troy Medieval Helmet With Black Plume Nautical...</td>\n",
       "    </tr>\n",
       "    <tr>\n",
       "      <th>3</th>\n",
       "      <td>Collectible Antique Helmet Medieval Armor Helmet</td>\n",
       "    </tr>\n",
       "    <tr>\n",
       "      <th>4</th>\n",
       "      <td>Collectible Steampunk Scuba Diving Helmet Repr...</td>\n",
       "    </tr>\n",
       "    <tr>\n",
       "      <th>5</th>\n",
       "      <td>Antique design Round wood and brass Compass wi...</td>\n",
       "    </tr>\n",
       "    <tr>\n",
       "      <th>6</th>\n",
       "      <td>Leather Black Armor Collectible Arm Guard</td>\n",
       "    </tr>\n",
       "    <tr>\n",
       "      <th>7</th>\n",
       "      <td>Wooden Iron Horse Head Face Hand Carved Unique...</td>\n",
       "    </tr>\n",
       "    <tr>\n",
       "      <th>8</th>\n",
       "      <td>1921 Anchor Engineering Diving Helmet - Antiqu...</td>\n",
       "    </tr>\n",
       "    <tr>\n",
       "      <th>9</th>\n",
       "      <td>Vintage Brass Black Mini Antique Diving Helmet...</td>\n",
       "    </tr>\n",
       "    <tr>\n",
       "      <th>10</th>\n",
       "      <td>Brass Divers Helmet Mark V Chrome Plated Speci...</td>\n",
       "    </tr>\n",
       "    <tr>\n",
       "      <th>11</th>\n",
       "      <td>Nautical Collectible Magnifier Glass with Wood...</td>\n",
       "    </tr>\n",
       "    <tr>\n",
       "      <th>12</th>\n",
       "      <td>Antique Brass Marine Sextant Vintage Nautical ...</td>\n",
       "    </tr>\n",
       "    <tr>\n",
       "      <th>13</th>\n",
       "      <td>Collectible Medieval Knight Brass Crusader Hel...</td>\n",
       "    </tr>\n",
       "    <tr>\n",
       "      <th>14</th>\n",
       "      <td>Collectible Viking Mask Helmet Norman Helmet</td>\n",
       "    </tr>\n",
       "    <tr>\n",
       "      <th>15</th>\n",
       "      <td>collectible silver candlestick telephones</td>\n",
       "    </tr>\n",
       "    <tr>\n",
       "      <th>16</th>\n",
       "      <td>Brass Fireman Victorian Fire Fighter Chief Hel...</td>\n",
       "    </tr>\n",
       "    <tr>\n",
       "      <th>17</th>\n",
       "      <td>Nautical brass compass Unique collectible bras...</td>\n",
       "    </tr>\n",
       "    <tr>\n",
       "      <th>18</th>\n",
       "      <td>Medieval German Sallet Helmet Collectible Armo...</td>\n",
       "    </tr>\n",
       "    <tr>\n",
       "      <th>19</th>\n",
       "      <td>Medieval Knight Hat Mini Helmet Collectible Ar...</td>\n",
       "    </tr>\n",
       "    <tr>\n",
       "      <th>20</th>\n",
       "      <td>Brass Sextant 8\" ~ Collectible Nautical Naviga...</td>\n",
       "    </tr>\n",
       "    <tr>\n",
       "      <th>21</th>\n",
       "      <td>Copper Antique Medieval Knight Armor Helmet - ...</td>\n",
       "    </tr>\n",
       "    <tr>\n",
       "      <th>22</th>\n",
       "      <td>US Navy Collectible Brass Diving Helmet Exporter</td>\n",
       "    </tr>\n",
       "    <tr>\n",
       "      <th>23</th>\n",
       "      <td>Brass 3 Inch Paper Weight Calander Nautical Ta...</td>\n",
       "    </tr>\n",
       "    <tr>\n",
       "      <th>24</th>\n",
       "      <td>Collectible Armour Helmet Viking Helmet Norman...</td>\n",
       "    </tr>\n",
       "    <tr>\n",
       "      <th>25</th>\n",
       "      <td>Collectible Brass Brunt on Stand Compass Leath...</td>\n",
       "    </tr>\n",
       "    <tr>\n",
       "      <th>26</th>\n",
       "      <td>collectible Black candlestick telephones</td>\n",
       "    </tr>\n",
       "    <tr>\n",
       "      <th>27</th>\n",
       "      <td>Collectible Nautical handmade compass Made fro...</td>\n",
       "    </tr>\n",
       "    <tr>\n",
       "      <th>28</th>\n",
       "      <td>Brass Magnetic Nautical Compass in wooden Box ...</td>\n",
       "    </tr>\n",
       "    <tr>\n",
       "      <th>29</th>\n",
       "      <td>Halloween Costume Collectible Greek Black Cori...</td>\n",
       "    </tr>\n",
       "    <tr>\n",
       "      <th>30</th>\n",
       "      <td>Leather Mounted Brass Binocular 6\" ~ Collectib...</td>\n",
       "    </tr>\n",
       "    <tr>\n",
       "      <th>31</th>\n",
       "      <td>Mark IV Nautical Vintage Collectible Home Deco...</td>\n",
       "    </tr>\n",
       "    <tr>\n",
       "      <th>32</th>\n",
       "      <td>Medieval Knight Armor Helmet - Adult Size &amp; We...</td>\n",
       "    </tr>\n",
       "    <tr>\n",
       "      <th>33</th>\n",
       "      <td>Antique Aluminum Decor Nautical Collectible Ma...</td>\n",
       "    </tr>\n",
       "    <tr>\n",
       "      <th>34</th>\n",
       "      <td>Memorial Wind Chime, Custom engraved Your Love...</td>\n",
       "    </tr>\n",
       "    <tr>\n",
       "      <th>35</th>\n",
       "      <td>Collectible Greek Helmet Armour Corinthian Hel...</td>\n",
       "    </tr>\n",
       "    <tr>\n",
       "      <th>36</th>\n",
       "      <td>Medieval Knight Armor Helmet Brass Collectible...</td>\n",
       "    </tr>\n",
       "    <tr>\n",
       "      <th>37</th>\n",
       "      <td>Nautical Brass Collectible German Pocket Sextant</td>\n",
       "    </tr>\n",
       "    <tr>\n",
       "      <th>38</th>\n",
       "      <td>Handmade High Quality Brass compass With solid...</td>\n",
       "    </tr>\n",
       "    <tr>\n",
       "      <th>39</th>\n",
       "      <td>Table Top Item Vintage Collectible Solid Brass...</td>\n",
       "    </tr>\n",
       "    <tr>\n",
       "      <th>40</th>\n",
       "      <td>medieval viking wooden shield best Armour coll...</td>\n",
       "    </tr>\n",
       "    <tr>\n",
       "      <th>41</th>\n",
       "      <td>4 Brass Nautical Decor Diving Helmet w/Wooden ...</td>\n",
       "    </tr>\n",
       "    <tr>\n",
       "      <th>42</th>\n",
       "      <td>U.S. Navy Diving Helmet Mark V ~ Collectible D...</td>\n",
       "    </tr>\n",
       "    <tr>\n",
       "      <th>43</th>\n",
       "      <td>Memorial Wind Chime, Custom engraved Your Love...</td>\n",
       "    </tr>\n",
       "    <tr>\n",
       "      <th>44</th>\n",
       "      <td>Collectible Queen Brass Greek Corinthian Armou...</td>\n",
       "    </tr>\n",
       "    <tr>\n",
       "      <th>45</th>\n",
       "      <td>Collectible Nautical Ship Captain Brass Telesc...</td>\n",
       "    </tr>\n",
       "    <tr>\n",
       "      <th>46</th>\n",
       "      <td>Medieval Kettle Hat Helmet Collectible Norman ...</td>\n",
       "    </tr>\n",
       "    <tr>\n",
       "      <th>47</th>\n",
       "      <td>Nautical Antique Brass Collectible Pendant com...</td>\n",
       "    </tr>\n",
       "  </tbody>\n",
       "</table>\n",
       "</div>"
      ],
      "text/plain": [
       "                                         categoryname\n",
       "0   Collectible Beautiful Brass Antique sundial co...\n",
       "1      Antique Marine Collectible Nautical Miner Lamp\n",
       "2   Troy Medieval Helmet With Black Plume Nautical...\n",
       "3    Collectible Antique Helmet Medieval Armor Helmet\n",
       "4   Collectible Steampunk Scuba Diving Helmet Repr...\n",
       "5   Antique design Round wood and brass Compass wi...\n",
       "6           Leather Black Armor Collectible Arm Guard\n",
       "7   Wooden Iron Horse Head Face Hand Carved Unique...\n",
       "8   1921 Anchor Engineering Diving Helmet - Antiqu...\n",
       "9   Vintage Brass Black Mini Antique Diving Helmet...\n",
       "10  Brass Divers Helmet Mark V Chrome Plated Speci...\n",
       "11  Nautical Collectible Magnifier Glass with Wood...\n",
       "12  Antique Brass Marine Sextant Vintage Nautical ...\n",
       "13  Collectible Medieval Knight Brass Crusader Hel...\n",
       "14       Collectible Viking Mask Helmet Norman Helmet\n",
       "15          collectible silver candlestick telephones\n",
       "16  Brass Fireman Victorian Fire Fighter Chief Hel...\n",
       "17  Nautical brass compass Unique collectible bras...\n",
       "18  Medieval German Sallet Helmet Collectible Armo...\n",
       "19  Medieval Knight Hat Mini Helmet Collectible Ar...\n",
       "20  Brass Sextant 8\" ~ Collectible Nautical Naviga...\n",
       "21  Copper Antique Medieval Knight Armor Helmet - ...\n",
       "22   US Navy Collectible Brass Diving Helmet Exporter\n",
       "23  Brass 3 Inch Paper Weight Calander Nautical Ta...\n",
       "24  Collectible Armour Helmet Viking Helmet Norman...\n",
       "25  Collectible Brass Brunt on Stand Compass Leath...\n",
       "26           collectible Black candlestick telephones\n",
       "27  Collectible Nautical handmade compass Made fro...\n",
       "28  Brass Magnetic Nautical Compass in wooden Box ...\n",
       "29  Halloween Costume Collectible Greek Black Cori...\n",
       "30  Leather Mounted Brass Binocular 6\" ~ Collectib...\n",
       "31  Mark IV Nautical Vintage Collectible Home Deco...\n",
       "32  Medieval Knight Armor Helmet - Adult Size & We...\n",
       "33  Antique Aluminum Decor Nautical Collectible Ma...\n",
       "34  Memorial Wind Chime, Custom engraved Your Love...\n",
       "35  Collectible Greek Helmet Armour Corinthian Hel...\n",
       "36  Medieval Knight Armor Helmet Brass Collectible...\n",
       "37   Nautical Brass Collectible German Pocket Sextant\n",
       "38  Handmade High Quality Brass compass With solid...\n",
       "39  Table Top Item Vintage Collectible Solid Brass...\n",
       "40  medieval viking wooden shield best Armour coll...\n",
       "41  4 Brass Nautical Decor Diving Helmet w/Wooden ...\n",
       "42  U.S. Navy Diving Helmet Mark V ~ Collectible D...\n",
       "43  Memorial Wind Chime, Custom engraved Your Love...\n",
       "44  Collectible Queen Brass Greek Corinthian Armou...\n",
       "45  Collectible Nautical Ship Captain Brass Telesc...\n",
       "46  Medieval Kettle Hat Helmet Collectible Norman ...\n",
       "47  Nautical Antique Brass Collectible Pendant com..."
      ]
     },
     "execution_count": 272,
     "metadata": {},
     "output_type": "execute_result"
    }
   ],
   "source": [
    "datac=pd.DataFrame(categoryname,columns=[\"categoryname\"])\n",
    "datac\n"
   ]
  },
  {
   "cell_type": "code",
   "execution_count": 273,
   "metadata": {},
   "outputs": [],
   "source": [
    "productinfolist2=driver.find_elements_by_class_name(\"fc3\")\n"
   ]
  },
  {
   "cell_type": "code",
   "execution_count": 257,
   "metadata": {},
   "outputs": [],
   "source": [
    "# fc3 fs12 text-ellipsis list-no-v2-decisionsup__element"
   ]
  },
  {
   "cell_type": "code",
   "execution_count": 274,
   "metadata": {},
   "outputs": [],
   "source": [
    "pp=productinfolist2[0]\n"
   ]
  },
  {
   "cell_type": "code",
   "execution_count": 259,
   "metadata": {
    "collapsed": true
   },
   "outputs": [
    {
     "data": {
      "text/plain": [
       "[<selenium.webdriver.remote.webelement.WebElement (session=\"4cd30c15f916cceb3f013841240e04d5\", element=\"6336499a-8458-4fb9-a544-cdffc09f5248\")>,\n",
       " <selenium.webdriver.remote.webelement.WebElement (session=\"4cd30c15f916cceb3f013841240e04d5\", element=\"0d66772a-e94c-4266-ae1b-fd9f3b8dc16b\")>,\n",
       " <selenium.webdriver.remote.webelement.WebElement (session=\"4cd30c15f916cceb3f013841240e04d5\", element=\"fa12b783-5ce7-4c5d-a1cc-38b71a3ffac3\")>,\n",
       " <selenium.webdriver.remote.webelement.WebElement (session=\"4cd30c15f916cceb3f013841240e04d5\", element=\"7157ed3e-4c52-410c-875d-a7d6787841c9\")>,\n",
       " <selenium.webdriver.remote.webelement.WebElement (session=\"4cd30c15f916cceb3f013841240e04d5\", element=\"0c880d62-bba1-41ab-b192-b0c8e29ddf3b\")>,\n",
       " <selenium.webdriver.remote.webelement.WebElement (session=\"4cd30c15f916cceb3f013841240e04d5\", element=\"014515da-a18e-41c6-8991-4402fbb57d06\")>,\n",
       " <selenium.webdriver.remote.webelement.WebElement (session=\"4cd30c15f916cceb3f013841240e04d5\", element=\"3c8a94a1-8604-41a4-b4bd-246a94ccc3b8\")>,\n",
       " <selenium.webdriver.remote.webelement.WebElement (session=\"4cd30c15f916cceb3f013841240e04d5\", element=\"5cee84d2-d59e-4736-84a8-c890566e7888\")>,\n",
       " <selenium.webdriver.remote.webelement.WebElement (session=\"4cd30c15f916cceb3f013841240e04d5\", element=\"1caaf028-f3c7-4bce-9310-b4244c78fcaa\")>,\n",
       " <selenium.webdriver.remote.webelement.WebElement (session=\"4cd30c15f916cceb3f013841240e04d5\", element=\"73efe27d-53d7-4164-94f4-f6e5831a9979\")>,\n",
       " <selenium.webdriver.remote.webelement.WebElement (session=\"4cd30c15f916cceb3f013841240e04d5\", element=\"8537b2db-dc54-4dc9-b93c-1462a567d504\")>,\n",
       " <selenium.webdriver.remote.webelement.WebElement (session=\"4cd30c15f916cceb3f013841240e04d5\", element=\"4a412f84-ef70-4f16-9843-7cd72a66e261\")>,\n",
       " <selenium.webdriver.remote.webelement.WebElement (session=\"4cd30c15f916cceb3f013841240e04d5\", element=\"7879bf06-3610-413f-9193-daba1713cc60\")>,\n",
       " <selenium.webdriver.remote.webelement.WebElement (session=\"4cd30c15f916cceb3f013841240e04d5\", element=\"71d256b1-2391-436c-a660-30a0a8957647\")>,\n",
       " <selenium.webdriver.remote.webelement.WebElement (session=\"4cd30c15f916cceb3f013841240e04d5\", element=\"47b14869-046c-4cc9-ba05-625f5ff13b6b\")>,\n",
       " <selenium.webdriver.remote.webelement.WebElement (session=\"4cd30c15f916cceb3f013841240e04d5\", element=\"6be21845-7d97-4812-b566-7801b6008d97\")>,\n",
       " <selenium.webdriver.remote.webelement.WebElement (session=\"4cd30c15f916cceb3f013841240e04d5\", element=\"258d9f7b-01bf-404b-8b6f-f06fe6461e8d\")>,\n",
       " <selenium.webdriver.remote.webelement.WebElement (session=\"4cd30c15f916cceb3f013841240e04d5\", element=\"1a855156-68c2-401b-91b1-dd1eaf5cfd49\")>,\n",
       " <selenium.webdriver.remote.webelement.WebElement (session=\"4cd30c15f916cceb3f013841240e04d5\", element=\"a163b6e0-dcec-4874-b7ea-7bde53d984af\")>,\n",
       " <selenium.webdriver.remote.webelement.WebElement (session=\"4cd30c15f916cceb3f013841240e04d5\", element=\"49b334d1-532a-4c56-bb3d-e26b74f9dc81\")>,\n",
       " <selenium.webdriver.remote.webelement.WebElement (session=\"4cd30c15f916cceb3f013841240e04d5\", element=\"6941168c-81a6-4232-a2b8-4e118dba8ec4\")>,\n",
       " <selenium.webdriver.remote.webelement.WebElement (session=\"4cd30c15f916cceb3f013841240e04d5\", element=\"dc23d591-3919-405b-a51f-1345a8d1117a\")>,\n",
       " <selenium.webdriver.remote.webelement.WebElement (session=\"4cd30c15f916cceb3f013841240e04d5\", element=\"97fceae6-26f6-4639-8dc2-722850a9af91\")>,\n",
       " <selenium.webdriver.remote.webelement.WebElement (session=\"4cd30c15f916cceb3f013841240e04d5\", element=\"0d85c527-3c9b-4feb-adfa-26d836569503\")>,\n",
       " <selenium.webdriver.remote.webelement.WebElement (session=\"4cd30c15f916cceb3f013841240e04d5\", element=\"2b8681b1-8928-4e05-8e81-d9a818b4bca5\")>,\n",
       " <selenium.webdriver.remote.webelement.WebElement (session=\"4cd30c15f916cceb3f013841240e04d5\", element=\"c314a1b5-904a-4b96-a7ca-eada52ee3b24\")>,\n",
       " <selenium.webdriver.remote.webelement.WebElement (session=\"4cd30c15f916cceb3f013841240e04d5\", element=\"f0b3a05b-e078-4a13-a1bf-500d71f16f37\")>,\n",
       " <selenium.webdriver.remote.webelement.WebElement (session=\"4cd30c15f916cceb3f013841240e04d5\", element=\"5ab5dfe2-7b4b-4342-9519-054a98f13115\")>,\n",
       " <selenium.webdriver.remote.webelement.WebElement (session=\"4cd30c15f916cceb3f013841240e04d5\", element=\"17bdb8f9-ba4c-4b75-a361-c6a594ed28be\")>,\n",
       " <selenium.webdriver.remote.webelement.WebElement (session=\"4cd30c15f916cceb3f013841240e04d5\", element=\"06a23a58-9f94-4762-b7b3-2366aefacd6b\")>,\n",
       " <selenium.webdriver.remote.webelement.WebElement (session=\"4cd30c15f916cceb3f013841240e04d5\", element=\"8d2337fd-0495-4d09-885f-db27e2390bb8\")>,\n",
       " <selenium.webdriver.remote.webelement.WebElement (session=\"4cd30c15f916cceb3f013841240e04d5\", element=\"95c7d359-abd7-409b-9685-be8bbddf61c5\")>,\n",
       " <selenium.webdriver.remote.webelement.WebElement (session=\"4cd30c15f916cceb3f013841240e04d5\", element=\"572d0edb-aa03-4448-b1a6-25f9cd98e48b\")>,\n",
       " <selenium.webdriver.remote.webelement.WebElement (session=\"4cd30c15f916cceb3f013841240e04d5\", element=\"03300ded-eb7c-409d-9cbd-1af7515f7da8\")>,\n",
       " <selenium.webdriver.remote.webelement.WebElement (session=\"4cd30c15f916cceb3f013841240e04d5\", element=\"16427f0e-e907-45de-a4d9-3c7ea7671e88\")>,\n",
       " <selenium.webdriver.remote.webelement.WebElement (session=\"4cd30c15f916cceb3f013841240e04d5\", element=\"a609f48f-000d-40f8-9327-b986bbd9fe93\")>,\n",
       " <selenium.webdriver.remote.webelement.WebElement (session=\"4cd30c15f916cceb3f013841240e04d5\", element=\"81d9b533-1535-4f24-8c01-f4152defe37c\")>,\n",
       " <selenium.webdriver.remote.webelement.WebElement (session=\"4cd30c15f916cceb3f013841240e04d5\", element=\"f9abd8be-5d66-4f26-ad06-e11bdb705218\")>,\n",
       " <selenium.webdriver.remote.webelement.WebElement (session=\"4cd30c15f916cceb3f013841240e04d5\", element=\"735cd809-a17b-430f-af3f-23d79cb12388\")>,\n",
       " <selenium.webdriver.remote.webelement.WebElement (session=\"4cd30c15f916cceb3f013841240e04d5\", element=\"61fd63ca-89d6-49d3-b7a8-f1e13b0f07fb\")>,\n",
       " <selenium.webdriver.remote.webelement.WebElement (session=\"4cd30c15f916cceb3f013841240e04d5\", element=\"d4504095-efb2-4e0b-acbb-f06d8299425e\")>,\n",
       " <selenium.webdriver.remote.webelement.WebElement (session=\"4cd30c15f916cceb3f013841240e04d5\", element=\"03ebee88-776b-4134-99a5-1fbc55db473b\")>,\n",
       " <selenium.webdriver.remote.webelement.WebElement (session=\"4cd30c15f916cceb3f013841240e04d5\", element=\"125cd130-e4a2-425c-ba7e-af4eb1c375d7\")>,\n",
       " <selenium.webdriver.remote.webelement.WebElement (session=\"4cd30c15f916cceb3f013841240e04d5\", element=\"b503bc7b-43a8-43d3-aa7b-3f60d4ade822\")>,\n",
       " <selenium.webdriver.remote.webelement.WebElement (session=\"4cd30c15f916cceb3f013841240e04d5\", element=\"036e5b64-426e-41d8-8068-2302fc1fbff8\")>,\n",
       " <selenium.webdriver.remote.webelement.WebElement (session=\"4cd30c15f916cceb3f013841240e04d5\", element=\"833b2878-9a6a-4a86-b14f-c598a543c4fe\")>,\n",
       " <selenium.webdriver.remote.webelement.WebElement (session=\"4cd30c15f916cceb3f013841240e04d5\", element=\"54ab4069-9eff-494b-9dd0-2568ecc83580\")>,\n",
       " <selenium.webdriver.remote.webelement.WebElement (session=\"4cd30c15f916cceb3f013841240e04d5\", element=\"16980c3d-a57b-4bff-a06e-e865f496c376\")>]"
      ]
     },
     "execution_count": 259,
     "metadata": {},
     "output_type": "execute_result"
    }
   ],
   "source": [
    "productinfolist2"
   ]
  },
  {
   "cell_type": "code",
   "execution_count": 275,
   "metadata": {},
   "outputs": [],
   "source": [
    "# pp.get_property(\"href\")"
   ]
  },
  {
   "cell_type": "code",
   "execution_count": 276,
   "metadata": {},
   "outputs": [],
   "source": [
    "listoflink=[]\n",
    "for el in productinfolist2:\n",
    "    \n",
    "    listoflink.append(el.get_property(\"href\"))\n",
    "    \n",
    "#     ppp2.get_property(\"href\")\n",
    "    \n",
    "    "
   ]
  },
  {
   "cell_type": "code",
   "execution_count": 277,
   "metadata": {},
   "outputs": [
    {
     "data": {
      "text/plain": [
       "['https://calvinhandicrafts.trustpass.alibaba.com/company_profile.html',\n",
       " 'https://hassanexports.trustpass.alibaba.com/company_profile.html',\n",
       " 'https://ganiinternational.trustpass.alibaba.com/company_profile.html',\n",
       " 'https://shivshakti.trustpass.alibaba.com/company_profile.html',\n",
       " 'https://globalhandicrafts.trustpass.alibaba.com/company_profile.html',\n",
       " 'https://in1365144207cccw.trustpass.alibaba.com/company_profile.html',\n",
       " 'https://thorinstruments.trustpass.alibaba.com/company_profile.html',\n",
       " 'https://in1006381421.trustpass.alibaba.com/company_profile.html',\n",
       " 'https://nauticalarthome.trustpass.alibaba.com/company_profile.html',\n",
       " 'https://roseenterprises.trustpass.alibaba.com/company_profile.html',\n",
       " 'https://themarine.trustpass.alibaba.com/company_profile.html',\n",
       " 'https://hassanexports.trustpass.alibaba.com/company_profile.html',\n",
       " 'https://ganiinternational.trustpass.alibaba.com/company_profile.html',\n",
       " 'https://calvinhandicrafts.trustpass.alibaba.com/company_profile.html',\n",
       " 'https://shivshakti.trustpass.alibaba.com/company_profile.html',\n",
       " 'https://globalhandicrafts.trustpass.alibaba.com/company_profile.html',\n",
       " 'https://tmohacorporation.trustpass.alibaba.com/company_profile.html',\n",
       " 'https://in1365144207cccw.trustpass.alibaba.com/company_profile.html',\n",
       " 'https://thorinstruments.trustpass.alibaba.com/company_profile.html',\n",
       " 'https://roseenterprises.trustpass.alibaba.com/company_profile.html',\n",
       " 'https://themarine.trustpass.alibaba.com/company_profile.html',\n",
       " 'https://nauticalarthome.trustpass.alibaba.com/company_profile.html',\n",
       " 'https://hassanexports.trustpass.alibaba.com/company_profile.html',\n",
       " 'https://ganiinternational.trustpass.alibaba.com/company_profile.html',\n",
       " 'https://shivshakti.trustpass.alibaba.com/company_profile.html',\n",
       " 'https://calvinhandicrafts.trustpass.alibaba.com/company_profile.html',\n",
       " 'https://globalhandicrafts.trustpass.alibaba.com/company_profile.html',\n",
       " 'https://in1365144207cccw.trustpass.alibaba.com/company_profile.html',\n",
       " 'https://tmohacorporation.trustpass.alibaba.com/company_profile.html',\n",
       " 'https://thorinstruments.trustpass.alibaba.com/company_profile.html',\n",
       " 'https://themarine.trustpass.alibaba.com/company_profile.html',\n",
       " 'https://roseenterprises.trustpass.alibaba.com/company_profile.html',\n",
       " 'https://nauticalarthome.trustpass.alibaba.com/company_profile.html',\n",
       " 'https://hassanexports.trustpass.alibaba.com/company_profile.html',\n",
       " 'https://ganiinternational.trustpass.alibaba.com/company_profile.html',\n",
       " 'https://shivshakti.trustpass.alibaba.com/company_profile.html',\n",
       " 'https://calvinhandicrafts.trustpass.alibaba.com/company_profile.html',\n",
       " 'https://globalhandicrafts.trustpass.alibaba.com/company_profile.html',\n",
       " 'https://in1365144207cccw.trustpass.alibaba.com/company_profile.html',\n",
       " 'https://tmohacorporation.trustpass.alibaba.com/company_profile.html',\n",
       " 'https://thorinstruments.trustpass.alibaba.com/company_profile.html',\n",
       " 'https://themarine.trustpass.alibaba.com/company_profile.html',\n",
       " 'https://nauticalarthome.trustpass.alibaba.com/company_profile.html',\n",
       " 'https://ganiinternational.trustpass.alibaba.com/company_profile.html',\n",
       " 'https://calvinhandicrafts.trustpass.alibaba.com/company_profile.html',\n",
       " 'https://hassanexports.trustpass.alibaba.com/company_profile.html',\n",
       " 'https://roseenterprises.trustpass.alibaba.com/company_profile.html',\n",
       " 'https://globalhandicrafts.trustpass.alibaba.com/company_profile.html']"
      ]
     },
     "execution_count": 277,
     "metadata": {},
     "output_type": "execute_result"
    }
   ],
   "source": [
    "listoflink"
   ]
  },
  {
   "cell_type": "code",
   "execution_count": 278,
   "metadata": {},
   "outputs": [
    {
     "data": {
      "text/html": [
       "<div>\n",
       "<style scoped>\n",
       "    .dataframe tbody tr th:only-of-type {\n",
       "        vertical-align: middle;\n",
       "    }\n",
       "\n",
       "    .dataframe tbody tr th {\n",
       "        vertical-align: top;\n",
       "    }\n",
       "\n",
       "    .dataframe thead th {\n",
       "        text-align: right;\n",
       "    }\n",
       "</style>\n",
       "<table border=\"1\" class=\"dataframe\">\n",
       "  <thead>\n",
       "    <tr style=\"text-align: right;\">\n",
       "      <th></th>\n",
       "      <th>listoflink</th>\n",
       "    </tr>\n",
       "  </thead>\n",
       "  <tbody>\n",
       "    <tr>\n",
       "      <th>0</th>\n",
       "      <td>https://calvinhandicrafts.trustpass.alibaba.co...</td>\n",
       "    </tr>\n",
       "    <tr>\n",
       "      <th>1</th>\n",
       "      <td>https://hassanexports.trustpass.alibaba.com/co...</td>\n",
       "    </tr>\n",
       "    <tr>\n",
       "      <th>2</th>\n",
       "      <td>https://ganiinternational.trustpass.alibaba.co...</td>\n",
       "    </tr>\n",
       "    <tr>\n",
       "      <th>3</th>\n",
       "      <td>https://shivshakti.trustpass.alibaba.com/compa...</td>\n",
       "    </tr>\n",
       "    <tr>\n",
       "      <th>4</th>\n",
       "      <td>https://globalhandicrafts.trustpass.alibaba.co...</td>\n",
       "    </tr>\n",
       "    <tr>\n",
       "      <th>5</th>\n",
       "      <td>https://in1365144207cccw.trustpass.alibaba.com...</td>\n",
       "    </tr>\n",
       "    <tr>\n",
       "      <th>6</th>\n",
       "      <td>https://thorinstruments.trustpass.alibaba.com/...</td>\n",
       "    </tr>\n",
       "    <tr>\n",
       "      <th>7</th>\n",
       "      <td>https://in1006381421.trustpass.alibaba.com/com...</td>\n",
       "    </tr>\n",
       "    <tr>\n",
       "      <th>8</th>\n",
       "      <td>https://nauticalarthome.trustpass.alibaba.com/...</td>\n",
       "    </tr>\n",
       "    <tr>\n",
       "      <th>9</th>\n",
       "      <td>https://roseenterprises.trustpass.alibaba.com/...</td>\n",
       "    </tr>\n",
       "    <tr>\n",
       "      <th>10</th>\n",
       "      <td>https://themarine.trustpass.alibaba.com/compan...</td>\n",
       "    </tr>\n",
       "    <tr>\n",
       "      <th>11</th>\n",
       "      <td>https://hassanexports.trustpass.alibaba.com/co...</td>\n",
       "    </tr>\n",
       "    <tr>\n",
       "      <th>12</th>\n",
       "      <td>https://ganiinternational.trustpass.alibaba.co...</td>\n",
       "    </tr>\n",
       "    <tr>\n",
       "      <th>13</th>\n",
       "      <td>https://calvinhandicrafts.trustpass.alibaba.co...</td>\n",
       "    </tr>\n",
       "    <tr>\n",
       "      <th>14</th>\n",
       "      <td>https://shivshakti.trustpass.alibaba.com/compa...</td>\n",
       "    </tr>\n",
       "    <tr>\n",
       "      <th>15</th>\n",
       "      <td>https://globalhandicrafts.trustpass.alibaba.co...</td>\n",
       "    </tr>\n",
       "    <tr>\n",
       "      <th>16</th>\n",
       "      <td>https://tmohacorporation.trustpass.alibaba.com...</td>\n",
       "    </tr>\n",
       "    <tr>\n",
       "      <th>17</th>\n",
       "      <td>https://in1365144207cccw.trustpass.alibaba.com...</td>\n",
       "    </tr>\n",
       "    <tr>\n",
       "      <th>18</th>\n",
       "      <td>https://thorinstruments.trustpass.alibaba.com/...</td>\n",
       "    </tr>\n",
       "    <tr>\n",
       "      <th>19</th>\n",
       "      <td>https://roseenterprises.trustpass.alibaba.com/...</td>\n",
       "    </tr>\n",
       "    <tr>\n",
       "      <th>20</th>\n",
       "      <td>https://themarine.trustpass.alibaba.com/compan...</td>\n",
       "    </tr>\n",
       "    <tr>\n",
       "      <th>21</th>\n",
       "      <td>https://nauticalarthome.trustpass.alibaba.com/...</td>\n",
       "    </tr>\n",
       "    <tr>\n",
       "      <th>22</th>\n",
       "      <td>https://hassanexports.trustpass.alibaba.com/co...</td>\n",
       "    </tr>\n",
       "    <tr>\n",
       "      <th>23</th>\n",
       "      <td>https://ganiinternational.trustpass.alibaba.co...</td>\n",
       "    </tr>\n",
       "    <tr>\n",
       "      <th>24</th>\n",
       "      <td>https://shivshakti.trustpass.alibaba.com/compa...</td>\n",
       "    </tr>\n",
       "    <tr>\n",
       "      <th>25</th>\n",
       "      <td>https://calvinhandicrafts.trustpass.alibaba.co...</td>\n",
       "    </tr>\n",
       "    <tr>\n",
       "      <th>26</th>\n",
       "      <td>https://globalhandicrafts.trustpass.alibaba.co...</td>\n",
       "    </tr>\n",
       "    <tr>\n",
       "      <th>27</th>\n",
       "      <td>https://in1365144207cccw.trustpass.alibaba.com...</td>\n",
       "    </tr>\n",
       "    <tr>\n",
       "      <th>28</th>\n",
       "      <td>https://tmohacorporation.trustpass.alibaba.com...</td>\n",
       "    </tr>\n",
       "    <tr>\n",
       "      <th>29</th>\n",
       "      <td>https://thorinstruments.trustpass.alibaba.com/...</td>\n",
       "    </tr>\n",
       "    <tr>\n",
       "      <th>30</th>\n",
       "      <td>https://themarine.trustpass.alibaba.com/compan...</td>\n",
       "    </tr>\n",
       "    <tr>\n",
       "      <th>31</th>\n",
       "      <td>https://roseenterprises.trustpass.alibaba.com/...</td>\n",
       "    </tr>\n",
       "    <tr>\n",
       "      <th>32</th>\n",
       "      <td>https://nauticalarthome.trustpass.alibaba.com/...</td>\n",
       "    </tr>\n",
       "    <tr>\n",
       "      <th>33</th>\n",
       "      <td>https://hassanexports.trustpass.alibaba.com/co...</td>\n",
       "    </tr>\n",
       "    <tr>\n",
       "      <th>34</th>\n",
       "      <td>https://ganiinternational.trustpass.alibaba.co...</td>\n",
       "    </tr>\n",
       "    <tr>\n",
       "      <th>35</th>\n",
       "      <td>https://shivshakti.trustpass.alibaba.com/compa...</td>\n",
       "    </tr>\n",
       "    <tr>\n",
       "      <th>36</th>\n",
       "      <td>https://calvinhandicrafts.trustpass.alibaba.co...</td>\n",
       "    </tr>\n",
       "    <tr>\n",
       "      <th>37</th>\n",
       "      <td>https://globalhandicrafts.trustpass.alibaba.co...</td>\n",
       "    </tr>\n",
       "    <tr>\n",
       "      <th>38</th>\n",
       "      <td>https://in1365144207cccw.trustpass.alibaba.com...</td>\n",
       "    </tr>\n",
       "    <tr>\n",
       "      <th>39</th>\n",
       "      <td>https://tmohacorporation.trustpass.alibaba.com...</td>\n",
       "    </tr>\n",
       "    <tr>\n",
       "      <th>40</th>\n",
       "      <td>https://thorinstruments.trustpass.alibaba.com/...</td>\n",
       "    </tr>\n",
       "    <tr>\n",
       "      <th>41</th>\n",
       "      <td>https://themarine.trustpass.alibaba.com/compan...</td>\n",
       "    </tr>\n",
       "    <tr>\n",
       "      <th>42</th>\n",
       "      <td>https://nauticalarthome.trustpass.alibaba.com/...</td>\n",
       "    </tr>\n",
       "    <tr>\n",
       "      <th>43</th>\n",
       "      <td>https://ganiinternational.trustpass.alibaba.co...</td>\n",
       "    </tr>\n",
       "    <tr>\n",
       "      <th>44</th>\n",
       "      <td>https://calvinhandicrafts.trustpass.alibaba.co...</td>\n",
       "    </tr>\n",
       "    <tr>\n",
       "      <th>45</th>\n",
       "      <td>https://hassanexports.trustpass.alibaba.com/co...</td>\n",
       "    </tr>\n",
       "    <tr>\n",
       "      <th>46</th>\n",
       "      <td>https://roseenterprises.trustpass.alibaba.com/...</td>\n",
       "    </tr>\n",
       "    <tr>\n",
       "      <th>47</th>\n",
       "      <td>https://globalhandicrafts.trustpass.alibaba.co...</td>\n",
       "    </tr>\n",
       "  </tbody>\n",
       "</table>\n",
       "</div>"
      ],
      "text/plain": [
       "                                           listoflink\n",
       "0   https://calvinhandicrafts.trustpass.alibaba.co...\n",
       "1   https://hassanexports.trustpass.alibaba.com/co...\n",
       "2   https://ganiinternational.trustpass.alibaba.co...\n",
       "3   https://shivshakti.trustpass.alibaba.com/compa...\n",
       "4   https://globalhandicrafts.trustpass.alibaba.co...\n",
       "5   https://in1365144207cccw.trustpass.alibaba.com...\n",
       "6   https://thorinstruments.trustpass.alibaba.com/...\n",
       "7   https://in1006381421.trustpass.alibaba.com/com...\n",
       "8   https://nauticalarthome.trustpass.alibaba.com/...\n",
       "9   https://roseenterprises.trustpass.alibaba.com/...\n",
       "10  https://themarine.trustpass.alibaba.com/compan...\n",
       "11  https://hassanexports.trustpass.alibaba.com/co...\n",
       "12  https://ganiinternational.trustpass.alibaba.co...\n",
       "13  https://calvinhandicrafts.trustpass.alibaba.co...\n",
       "14  https://shivshakti.trustpass.alibaba.com/compa...\n",
       "15  https://globalhandicrafts.trustpass.alibaba.co...\n",
       "16  https://tmohacorporation.trustpass.alibaba.com...\n",
       "17  https://in1365144207cccw.trustpass.alibaba.com...\n",
       "18  https://thorinstruments.trustpass.alibaba.com/...\n",
       "19  https://roseenterprises.trustpass.alibaba.com/...\n",
       "20  https://themarine.trustpass.alibaba.com/compan...\n",
       "21  https://nauticalarthome.trustpass.alibaba.com/...\n",
       "22  https://hassanexports.trustpass.alibaba.com/co...\n",
       "23  https://ganiinternational.trustpass.alibaba.co...\n",
       "24  https://shivshakti.trustpass.alibaba.com/compa...\n",
       "25  https://calvinhandicrafts.trustpass.alibaba.co...\n",
       "26  https://globalhandicrafts.trustpass.alibaba.co...\n",
       "27  https://in1365144207cccw.trustpass.alibaba.com...\n",
       "28  https://tmohacorporation.trustpass.alibaba.com...\n",
       "29  https://thorinstruments.trustpass.alibaba.com/...\n",
       "30  https://themarine.trustpass.alibaba.com/compan...\n",
       "31  https://roseenterprises.trustpass.alibaba.com/...\n",
       "32  https://nauticalarthome.trustpass.alibaba.com/...\n",
       "33  https://hassanexports.trustpass.alibaba.com/co...\n",
       "34  https://ganiinternational.trustpass.alibaba.co...\n",
       "35  https://shivshakti.trustpass.alibaba.com/compa...\n",
       "36  https://calvinhandicrafts.trustpass.alibaba.co...\n",
       "37  https://globalhandicrafts.trustpass.alibaba.co...\n",
       "38  https://in1365144207cccw.trustpass.alibaba.com...\n",
       "39  https://tmohacorporation.trustpass.alibaba.com...\n",
       "40  https://thorinstruments.trustpass.alibaba.com/...\n",
       "41  https://themarine.trustpass.alibaba.com/compan...\n",
       "42  https://nauticalarthome.trustpass.alibaba.com/...\n",
       "43  https://ganiinternational.trustpass.alibaba.co...\n",
       "44  https://calvinhandicrafts.trustpass.alibaba.co...\n",
       "45  https://hassanexports.trustpass.alibaba.com/co...\n",
       "46  https://roseenterprises.trustpass.alibaba.com/...\n",
       "47  https://globalhandicrafts.trustpass.alibaba.co..."
      ]
     },
     "execution_count": 278,
     "metadata": {},
     "output_type": "execute_result"
    }
   ],
   "source": [
    "data1=pd.DataFrame(listoflink,columns=[\"listoflink\"])\n",
    "data1\n"
   ]
  },
  {
   "cell_type": "code",
   "execution_count": null,
   "metadata": {},
   "outputs": [],
   "source": [
    "# pd.Series(['foo', 'fuz', np.nan]).str.replace('f.', 'ba', regex=True)"
   ]
  },
  {
   "cell_type": "code",
   "execution_count": 279,
   "metadata": {},
   "outputs": [],
   "source": [
    "data2=data1[\"listoflink\"].str.replace('company_profile','contactinfo')"
   ]
  },
  {
   "cell_type": "code",
   "execution_count": 99,
   "metadata": {},
   "outputs": [],
   "source": [
    "# condition=True\n",
    "# while condition:\n",
    "#     time.sleep(3)\n",
    "#     productinfolist=driver.find_elements_by_class_name(\"list-no-v2-main\")\n",
    "#     for el in productinfolist:\n",
    "#         ppp1=el.find_element_by_tag_name(\"h4\")\n",
    "#         ppp2=ppp1.find_element_by_tag_name(\"a\")\n",
    "#         #     ppp2.get_property(\"href\")\n",
    "#         listoflink.append(ppp2.get_property(\"href\"))\n",
    "#         time.sleep(2)\n",
    "#         try:\n",
    "#             driver.find_element_by_xpath('/html/body/div[3]/div[1]/div/div[4]/div/div[1]/a[9]/i').click()\n",
    "#         except:\n",
    "#             condition=False\n",
    "    \n",
    "\n",
    "    \n",
    "    "
   ]
  },
  {
   "cell_type": "code",
   "execution_count": 285,
   "metadata": {},
   "outputs": [
    {
     "data": {
      "text/html": [
       "<div>\n",
       "<style scoped>\n",
       "    .dataframe tbody tr th:only-of-type {\n",
       "        vertical-align: middle;\n",
       "    }\n",
       "\n",
       "    .dataframe tbody tr th {\n",
       "        vertical-align: top;\n",
       "    }\n",
       "\n",
       "    .dataframe thead th {\n",
       "        text-align: right;\n",
       "    }\n",
       "</style>\n",
       "<table border=\"1\" class=\"dataframe\">\n",
       "  <thead>\n",
       "    <tr style=\"text-align: right;\">\n",
       "      <th></th>\n",
       "      <th>listoflinks</th>\n",
       "    </tr>\n",
       "  </thead>\n",
       "  <tbody>\n",
       "  </tbody>\n",
       "</table>\n",
       "</div>"
      ],
      "text/plain": [
       "Empty DataFrame\n",
       "Columns: [listoflinks]\n",
       "Index: []"
      ]
     },
     "execution_count": 285,
     "metadata": {},
     "output_type": "execute_result"
    }
   ],
   "source": [
    "cl=pd.DataFrame(data2,columns=[\"listoflinks\"])\n",
    "cl\n"
   ]
  },
  {
   "cell_type": "code",
   "execution_count": 286,
   "metadata": {},
   "outputs": [
    {
     "data": {
      "text/html": [
       "<div>\n",
       "<style scoped>\n",
       "    .dataframe tbody tr th:only-of-type {\n",
       "        vertical-align: middle;\n",
       "    }\n",
       "\n",
       "    .dataframe tbody tr th {\n",
       "        vertical-align: top;\n",
       "    }\n",
       "\n",
       "    .dataframe thead th {\n",
       "        text-align: right;\n",
       "    }\n",
       "</style>\n",
       "<table border=\"1\" class=\"dataframe\">\n",
       "  <thead>\n",
       "    <tr style=\"text-align: right;\">\n",
       "      <th></th>\n",
       "      <th>listoflinks</th>\n",
       "    </tr>\n",
       "  </thead>\n",
       "  <tbody>\n",
       "  </tbody>\n",
       "</table>\n",
       "</div>"
      ],
      "text/plain": [
       "Empty DataFrame\n",
       "Columns: [listoflinks]\n",
       "Index: []"
      ]
     },
     "execution_count": 286,
     "metadata": {},
     "output_type": "execute_result"
    }
   ],
   "source": [
    "cl"
   ]
  },
  {
   "cell_type": "code",
   "execution_count": 281,
   "metadata": {},
   "outputs": [
    {
     "data": {
      "text/plain": [
       "0     https://calvinhandicrafts.trustpass.alibaba.co...\n",
       "1     https://hassanexports.trustpass.alibaba.com/co...\n",
       "2     https://ganiinternational.trustpass.alibaba.co...\n",
       "3     https://shivshakti.trustpass.alibaba.com/conta...\n",
       "4     https://globalhandicrafts.trustpass.alibaba.co...\n",
       "5     https://in1365144207cccw.trustpass.alibaba.com...\n",
       "6     https://thorinstruments.trustpass.alibaba.com/...\n",
       "7     https://in1006381421.trustpass.alibaba.com/con...\n",
       "8     https://nauticalarthome.trustpass.alibaba.com/...\n",
       "9     https://roseenterprises.trustpass.alibaba.com/...\n",
       "10    https://themarine.trustpass.alibaba.com/contac...\n",
       "11    https://hassanexports.trustpass.alibaba.com/co...\n",
       "12    https://ganiinternational.trustpass.alibaba.co...\n",
       "13    https://calvinhandicrafts.trustpass.alibaba.co...\n",
       "14    https://shivshakti.trustpass.alibaba.com/conta...\n",
       "15    https://globalhandicrafts.trustpass.alibaba.co...\n",
       "16    https://tmohacorporation.trustpass.alibaba.com...\n",
       "17    https://in1365144207cccw.trustpass.alibaba.com...\n",
       "18    https://thorinstruments.trustpass.alibaba.com/...\n",
       "19    https://roseenterprises.trustpass.alibaba.com/...\n",
       "20    https://themarine.trustpass.alibaba.com/contac...\n",
       "21    https://nauticalarthome.trustpass.alibaba.com/...\n",
       "22    https://hassanexports.trustpass.alibaba.com/co...\n",
       "23    https://ganiinternational.trustpass.alibaba.co...\n",
       "24    https://shivshakti.trustpass.alibaba.com/conta...\n",
       "25    https://calvinhandicrafts.trustpass.alibaba.co...\n",
       "26    https://globalhandicrafts.trustpass.alibaba.co...\n",
       "27    https://in1365144207cccw.trustpass.alibaba.com...\n",
       "28    https://tmohacorporation.trustpass.alibaba.com...\n",
       "29    https://thorinstruments.trustpass.alibaba.com/...\n",
       "30    https://themarine.trustpass.alibaba.com/contac...\n",
       "31    https://roseenterprises.trustpass.alibaba.com/...\n",
       "32    https://nauticalarthome.trustpass.alibaba.com/...\n",
       "33    https://hassanexports.trustpass.alibaba.com/co...\n",
       "34    https://ganiinternational.trustpass.alibaba.co...\n",
       "35    https://shivshakti.trustpass.alibaba.com/conta...\n",
       "36    https://calvinhandicrafts.trustpass.alibaba.co...\n",
       "37    https://globalhandicrafts.trustpass.alibaba.co...\n",
       "38    https://in1365144207cccw.trustpass.alibaba.com...\n",
       "39    https://tmohacorporation.trustpass.alibaba.com...\n",
       "40    https://thorinstruments.trustpass.alibaba.com/...\n",
       "41    https://themarine.trustpass.alibaba.com/contac...\n",
       "42    https://nauticalarthome.trustpass.alibaba.com/...\n",
       "43    https://ganiinternational.trustpass.alibaba.co...\n",
       "44    https://calvinhandicrafts.trustpass.alibaba.co...\n",
       "45    https://hassanexports.trustpass.alibaba.com/co...\n",
       "46    https://roseenterprises.trustpass.alibaba.com/...\n",
       "47    https://globalhandicrafts.trustpass.alibaba.co...\n",
       "Name: listoflink, dtype: object"
      ]
     },
     "execution_count": 281,
     "metadata": {},
     "output_type": "execute_result"
    }
   ],
   "source": [
    "data2"
   ]
  },
  {
   "cell_type": "code",
   "execution_count": 282,
   "metadata": {},
   "outputs": [],
   "source": [
    "alibaba = [datac,data2]"
   ]
  },
  {
   "cell_type": "code",
   "execution_count": 283,
   "metadata": {},
   "outputs": [],
   "source": [
    "result= pd.concat(alibaba, axis=1 )\n"
   ]
  },
  {
   "cell_type": "code",
   "execution_count": 284,
   "metadata": {},
   "outputs": [],
   "source": [
    "result.to_excel('alicollectable3.xlsx')"
   ]
  },
  {
   "cell_type": "code",
   "execution_count": 62,
   "metadata": {
    "collapsed": true
   },
   "outputs": [
    {
     "ename": "StaleElementReferenceException",
     "evalue": "Message: stale element reference: element is not attached to the page document\n  (Session info: chrome=87.0.4280.88)\n",
     "output_type": "error",
     "traceback": [
      "\u001b[1;31m---------------------------------------------------------------------------\u001b[0m",
      "\u001b[1;31mStaleElementReferenceException\u001b[0m            Traceback (most recent call last)",
      "\u001b[1;32m<ipython-input-62-fcc11e791592>\u001b[0m in \u001b[0;36m<module>\u001b[1;34m\u001b[0m\n\u001b[0;32m      6\u001b[0m     \u001b[0mdriver\u001b[0m\u001b[1;33m.\u001b[0m\u001b[0mget\u001b[0m\u001b[1;33m(\u001b[0m\u001b[0murl\u001b[0m\u001b[1;33m)\u001b[0m\u001b[1;33m\u001b[0m\u001b[1;33m\u001b[0m\u001b[0m\n\u001b[0;32m      7\u001b[0m     \u001b[1;32mfor\u001b[0m \u001b[0mel\u001b[0m \u001b[1;32min\u001b[0m \u001b[0mproductinfolist\u001b[0m\u001b[1;33m:\u001b[0m\u001b[1;33m\u001b[0m\u001b[1;33m\u001b[0m\u001b[0m\n\u001b[1;32m----> 8\u001b[1;33m         \u001b[0mppp1\u001b[0m\u001b[1;33m=\u001b[0m\u001b[0mel\u001b[0m\u001b[1;33m.\u001b[0m\u001b[0mfind_element_by_tag_name\u001b[0m\u001b[1;33m(\u001b[0m\u001b[1;34m\"h4\"\u001b[0m\u001b[1;33m)\u001b[0m\u001b[1;33m\u001b[0m\u001b[1;33m\u001b[0m\u001b[0m\n\u001b[0m\u001b[0;32m      9\u001b[0m         \u001b[0mppp2\u001b[0m\u001b[1;33m=\u001b[0m\u001b[0mppp1\u001b[0m\u001b[1;33m.\u001b[0m\u001b[0mfind_element_by_tag_name\u001b[0m\u001b[1;33m(\u001b[0m\u001b[1;34m\"a\"\u001b[0m\u001b[1;33m)\u001b[0m\u001b[1;33m\u001b[0m\u001b[1;33m\u001b[0m\u001b[0m\n\u001b[0;32m     10\u001b[0m         \u001b[1;31m#     ppp2.get_property(\"href\")\u001b[0m\u001b[1;33m\u001b[0m\u001b[1;33m\u001b[0m\u001b[1;33m\u001b[0m\u001b[0m\n",
      "\u001b[1;32mC:\\ProgramData\\Anaconda3\\lib\\site-packages\\selenium\\webdriver\\remote\\webelement.py\u001b[0m in \u001b[0;36mfind_element_by_tag_name\u001b[1;34m(self, name)\u001b[0m\n\u001b[0;32m    303\u001b[0m             \u001b[0melement\u001b[0m \u001b[1;33m=\u001b[0m \u001b[0melement\u001b[0m\u001b[1;33m.\u001b[0m\u001b[0mfind_element_by_tag_name\u001b[0m\u001b[1;33m(\u001b[0m\u001b[1;34m'h1'\u001b[0m\u001b[1;33m)\u001b[0m\u001b[1;33m\u001b[0m\u001b[1;33m\u001b[0m\u001b[0m\n\u001b[0;32m    304\u001b[0m         \"\"\"\n\u001b[1;32m--> 305\u001b[1;33m         \u001b[1;32mreturn\u001b[0m \u001b[0mself\u001b[0m\u001b[1;33m.\u001b[0m\u001b[0mfind_element\u001b[0m\u001b[1;33m(\u001b[0m\u001b[0mby\u001b[0m\u001b[1;33m=\u001b[0m\u001b[0mBy\u001b[0m\u001b[1;33m.\u001b[0m\u001b[0mTAG_NAME\u001b[0m\u001b[1;33m,\u001b[0m \u001b[0mvalue\u001b[0m\u001b[1;33m=\u001b[0m\u001b[0mname\u001b[0m\u001b[1;33m)\u001b[0m\u001b[1;33m\u001b[0m\u001b[1;33m\u001b[0m\u001b[0m\n\u001b[0m\u001b[0;32m    306\u001b[0m \u001b[1;33m\u001b[0m\u001b[0m\n\u001b[0;32m    307\u001b[0m     \u001b[1;32mdef\u001b[0m \u001b[0mfind_elements_by_tag_name\u001b[0m\u001b[1;33m(\u001b[0m\u001b[0mself\u001b[0m\u001b[1;33m,\u001b[0m \u001b[0mname\u001b[0m\u001b[1;33m)\u001b[0m\u001b[1;33m:\u001b[0m\u001b[1;33m\u001b[0m\u001b[1;33m\u001b[0m\u001b[0m\n",
      "\u001b[1;32mC:\\ProgramData\\Anaconda3\\lib\\site-packages\\selenium\\webdriver\\remote\\webelement.py\u001b[0m in \u001b[0;36mfind_element\u001b[1;34m(self, by, value)\u001b[0m\n\u001b[0;32m    657\u001b[0m \u001b[1;33m\u001b[0m\u001b[0m\n\u001b[0;32m    658\u001b[0m         return self._execute(Command.FIND_CHILD_ELEMENT,\n\u001b[1;32m--> 659\u001b[1;33m                              {\"using\": by, \"value\": value})['value']\n\u001b[0m\u001b[0;32m    660\u001b[0m \u001b[1;33m\u001b[0m\u001b[0m\n\u001b[0;32m    661\u001b[0m     \u001b[1;32mdef\u001b[0m \u001b[0mfind_elements\u001b[0m\u001b[1;33m(\u001b[0m\u001b[0mself\u001b[0m\u001b[1;33m,\u001b[0m \u001b[0mby\u001b[0m\u001b[1;33m=\u001b[0m\u001b[0mBy\u001b[0m\u001b[1;33m.\u001b[0m\u001b[0mID\u001b[0m\u001b[1;33m,\u001b[0m \u001b[0mvalue\u001b[0m\u001b[1;33m=\u001b[0m\u001b[1;32mNone\u001b[0m\u001b[1;33m)\u001b[0m\u001b[1;33m:\u001b[0m\u001b[1;33m\u001b[0m\u001b[1;33m\u001b[0m\u001b[0m\n",
      "\u001b[1;32mC:\\ProgramData\\Anaconda3\\lib\\site-packages\\selenium\\webdriver\\remote\\webelement.py\u001b[0m in \u001b[0;36m_execute\u001b[1;34m(self, command, params)\u001b[0m\n\u001b[0;32m    631\u001b[0m             \u001b[0mparams\u001b[0m \u001b[1;33m=\u001b[0m \u001b[1;33m{\u001b[0m\u001b[1;33m}\u001b[0m\u001b[1;33m\u001b[0m\u001b[1;33m\u001b[0m\u001b[0m\n\u001b[0;32m    632\u001b[0m         \u001b[0mparams\u001b[0m\u001b[1;33m[\u001b[0m\u001b[1;34m'id'\u001b[0m\u001b[1;33m]\u001b[0m \u001b[1;33m=\u001b[0m \u001b[0mself\u001b[0m\u001b[1;33m.\u001b[0m\u001b[0m_id\u001b[0m\u001b[1;33m\u001b[0m\u001b[1;33m\u001b[0m\u001b[0m\n\u001b[1;32m--> 633\u001b[1;33m         \u001b[1;32mreturn\u001b[0m \u001b[0mself\u001b[0m\u001b[1;33m.\u001b[0m\u001b[0m_parent\u001b[0m\u001b[1;33m.\u001b[0m\u001b[0mexecute\u001b[0m\u001b[1;33m(\u001b[0m\u001b[0mcommand\u001b[0m\u001b[1;33m,\u001b[0m \u001b[0mparams\u001b[0m\u001b[1;33m)\u001b[0m\u001b[1;33m\u001b[0m\u001b[1;33m\u001b[0m\u001b[0m\n\u001b[0m\u001b[0;32m    634\u001b[0m \u001b[1;33m\u001b[0m\u001b[0m\n\u001b[0;32m    635\u001b[0m     \u001b[1;32mdef\u001b[0m \u001b[0mfind_element\u001b[0m\u001b[1;33m(\u001b[0m\u001b[0mself\u001b[0m\u001b[1;33m,\u001b[0m \u001b[0mby\u001b[0m\u001b[1;33m=\u001b[0m\u001b[0mBy\u001b[0m\u001b[1;33m.\u001b[0m\u001b[0mID\u001b[0m\u001b[1;33m,\u001b[0m \u001b[0mvalue\u001b[0m\u001b[1;33m=\u001b[0m\u001b[1;32mNone\u001b[0m\u001b[1;33m)\u001b[0m\u001b[1;33m:\u001b[0m\u001b[1;33m\u001b[0m\u001b[1;33m\u001b[0m\u001b[0m\n",
      "\u001b[1;32mC:\\ProgramData\\Anaconda3\\lib\\site-packages\\selenium\\webdriver\\remote\\webdriver.py\u001b[0m in \u001b[0;36mexecute\u001b[1;34m(self, driver_command, params)\u001b[0m\n\u001b[0;32m    319\u001b[0m         \u001b[0mresponse\u001b[0m \u001b[1;33m=\u001b[0m \u001b[0mself\u001b[0m\u001b[1;33m.\u001b[0m\u001b[0mcommand_executor\u001b[0m\u001b[1;33m.\u001b[0m\u001b[0mexecute\u001b[0m\u001b[1;33m(\u001b[0m\u001b[0mdriver_command\u001b[0m\u001b[1;33m,\u001b[0m \u001b[0mparams\u001b[0m\u001b[1;33m)\u001b[0m\u001b[1;33m\u001b[0m\u001b[1;33m\u001b[0m\u001b[0m\n\u001b[0;32m    320\u001b[0m         \u001b[1;32mif\u001b[0m \u001b[0mresponse\u001b[0m\u001b[1;33m:\u001b[0m\u001b[1;33m\u001b[0m\u001b[1;33m\u001b[0m\u001b[0m\n\u001b[1;32m--> 321\u001b[1;33m             \u001b[0mself\u001b[0m\u001b[1;33m.\u001b[0m\u001b[0merror_handler\u001b[0m\u001b[1;33m.\u001b[0m\u001b[0mcheck_response\u001b[0m\u001b[1;33m(\u001b[0m\u001b[0mresponse\u001b[0m\u001b[1;33m)\u001b[0m\u001b[1;33m\u001b[0m\u001b[1;33m\u001b[0m\u001b[0m\n\u001b[0m\u001b[0;32m    322\u001b[0m             response['value'] = self._unwrap_value(\n\u001b[0;32m    323\u001b[0m                 response.get('value', None))\n",
      "\u001b[1;32mC:\\ProgramData\\Anaconda3\\lib\\site-packages\\selenium\\webdriver\\remote\\errorhandler.py\u001b[0m in \u001b[0;36mcheck_response\u001b[1;34m(self, response)\u001b[0m\n\u001b[0;32m    240\u001b[0m                 \u001b[0malert_text\u001b[0m \u001b[1;33m=\u001b[0m \u001b[0mvalue\u001b[0m\u001b[1;33m[\u001b[0m\u001b[1;34m'alert'\u001b[0m\u001b[1;33m]\u001b[0m\u001b[1;33m.\u001b[0m\u001b[0mget\u001b[0m\u001b[1;33m(\u001b[0m\u001b[1;34m'text'\u001b[0m\u001b[1;33m)\u001b[0m\u001b[1;33m\u001b[0m\u001b[1;33m\u001b[0m\u001b[0m\n\u001b[0;32m    241\u001b[0m             \u001b[1;32mraise\u001b[0m \u001b[0mexception_class\u001b[0m\u001b[1;33m(\u001b[0m\u001b[0mmessage\u001b[0m\u001b[1;33m,\u001b[0m \u001b[0mscreen\u001b[0m\u001b[1;33m,\u001b[0m \u001b[0mstacktrace\u001b[0m\u001b[1;33m,\u001b[0m \u001b[0malert_text\u001b[0m\u001b[1;33m)\u001b[0m\u001b[1;33m\u001b[0m\u001b[1;33m\u001b[0m\u001b[0m\n\u001b[1;32m--> 242\u001b[1;33m         \u001b[1;32mraise\u001b[0m \u001b[0mexception_class\u001b[0m\u001b[1;33m(\u001b[0m\u001b[0mmessage\u001b[0m\u001b[1;33m,\u001b[0m \u001b[0mscreen\u001b[0m\u001b[1;33m,\u001b[0m \u001b[0mstacktrace\u001b[0m\u001b[1;33m)\u001b[0m\u001b[1;33m\u001b[0m\u001b[1;33m\u001b[0m\u001b[0m\n\u001b[0m\u001b[0;32m    243\u001b[0m \u001b[1;33m\u001b[0m\u001b[0m\n\u001b[0;32m    244\u001b[0m     \u001b[1;32mdef\u001b[0m \u001b[0m_value_or_default\u001b[0m\u001b[1;33m(\u001b[0m\u001b[0mself\u001b[0m\u001b[1;33m,\u001b[0m \u001b[0mobj\u001b[0m\u001b[1;33m,\u001b[0m \u001b[0mkey\u001b[0m\u001b[1;33m,\u001b[0m \u001b[0mdefault\u001b[0m\u001b[1;33m)\u001b[0m\u001b[1;33m:\u001b[0m\u001b[1;33m\u001b[0m\u001b[1;33m\u001b[0m\u001b[0m\n",
      "\u001b[1;31mStaleElementReferenceException\u001b[0m: Message: stale element reference: element is not attached to the page document\n  (Session info: chrome=87.0.4280.88)\n"
     ]
    }
   ],
   "source": [
    "# listoflink1=[]\n",
    "# # driver = webdriver.Chrome(\"C:\\\\Users\\\\Deepak Gupta\\\\Downloads\\\\chromedriver\")\n",
    "# for x in range(1,3):\n",
    "#     url = \"https://www.alibaba.com/products/Collectible.html?IndexArea=product_en&page={}&Country=IN&viewtype=L&param_order=CNTRY-IN\"\n",
    "#     url = url.format(x)\n",
    "#     driver.get(url)\n",
    "#     for el in productinfolist:\n",
    "#         ppp1=el.find_element_by_tag_name(\"h4\")\n",
    "#         ppp2=ppp1.find_element_by_tag_name(\"a\")\n",
    "#         #     ppp2.get_property(\"href\")\n",
    "#         listoflink1.append(ppp2.get_property(\"href\"))\n",
    "        \n",
    "        \n",
    "    \n",
    "# #     "
   ]
  },
  {
   "cell_type": "code",
   "execution_count": null,
   "metadata": {},
   "outputs": [],
   "source": [
    "# https://www.alibaba.com/products/Collectible.html?IndexArea=product_en&page={}&Country=IN&viewtype=L&param_order=CNTRY-IN"
   ]
  },
  {
   "cell_type": "code",
   "execution_count": 119,
   "metadata": {},
   "outputs": [],
   "source": [
    "# driver.get('https://www.alibaba.com/product-detail/GREEK-MUSCLE-ARMOR-COLLECTIBLE-REPLICA-ARMOUR_139427845.html?s=p')\n",
    "# /html/body/div[2]/div/div[1]/div[3]/div[2]/div/div/div/div/div[1]/div[2]/div[2]/a\n",
    "\n",
    "\n",
    "# # /html/body/div[2]/div/div[1]/div[3]/div[1]/div[1]/div[3]/div/div[1]/div/div[1]/h1"
   ]
  },
  {
   "cell_type": "code",
   "execution_count": 122,
   "metadata": {},
   "outputs": [],
   "source": [
    "# driver.get('https://www.alibaba.com/product-detail/Medieval-Spartan-King-Leonidas-Greek-Armour_1700000438173.html')\n",
    "# /html/body/div[2]/div/div[1]/div[3]/div[2]/div/div/div/div/div[1]/div[2]/div[2]/a"
   ]
  },
  {
   "cell_type": "code",
   "execution_count": 120,
   "metadata": {},
   "outputs": [],
   "source": [
    "# driver.get('https://www.alibaba.com/product-detail/Full-Brass-Scuba-Divers-Helmet-US_50031078781.html?s=p')\n",
    "# /html/body/div[2]/div/div[1]/div[3]/div[1]/div[1]/div[3]/div/div[1]/div/div[1]/h1\n",
    "# /html/body/div[2]/div/div[1]/div[3]/div[2]/div/div/div/div/div[1]/div[2]/div[2]/a"
   ]
  },
  {
   "cell_type": "code",
   "execution_count": 65,
   "metadata": {},
   "outputs": [],
   "source": [
    "import time"
   ]
  },
  {
   "cell_type": "code",
   "execution_count": 70,
   "metadata": {},
   "outputs": [],
   "source": [
    "# driver.find_element_by_xpath('/html/body/div[4]/div[1]/div/div[3]/div[2]/div/div/div/div[1]/div/div[2]/div[1]/h4/a').text"
   ]
  },
  {
   "cell_type": "code",
   "execution_count": 64,
   "metadata": {},
   "outputs": [],
   "source": [
    "from tqdm import tqdm"
   ]
  },
  {
   "cell_type": "code",
   "execution_count": 165,
   "metadata": {},
   "outputs": [],
   "source": [
    "# productinfolist2=driver.find_elements_by_class_name(\"company-name-container\")"
   ]
  },
  {
   "cell_type": "code",
   "execution_count": 66,
   "metadata": {},
   "outputs": [],
   "source": [
    "# companylink=[]\n",
    "# for i in listoflink :\n",
    "    \n",
    "#     driver.get(i)\n",
    "#     time.sleep(10)\n",
    "#     q1=driver.find_elements_by_class_name(\"company-name-container\")[0]\n",
    "#     name=q1.find_element_by_tag_name(\"a\").get_property('href')\n",
    "#     companylink.append(name)\n",
    "    \n",
    "    \n",
    "    \n",
    "    "
   ]
  },
  {
   "cell_type": "code",
   "execution_count": 85,
   "metadata": {},
   "outputs": [],
   "source": [
    "# contact=[]\n",
    "# for j in listoflink :\n",
    "    \n",
    "#     driver.get(j)\n",
    "#     time.sleep(7)\n",
    "#     f1=driver.find_elements_by_class_name(\"nav-item\")[3]\n",
    "#     d=f1.find_element_by_tag_name(\"a\").get_property('href')\n",
    "#     contact.append(d)\n",
    "    \n",
    "    \n",
    "    \n",
    "    "
   ]
  },
  {
   "cell_type": "code",
   "execution_count": 231,
   "metadata": {},
   "outputs": [],
   "source": [
    "# contact"
   ]
  },
  {
   "cell_type": "code",
   "execution_count": 230,
   "metadata": {},
   "outputs": [],
   "source": [
    "# datap=pd.DataFrame(contact,columns=[\"contact\"])\n",
    "# datap\n"
   ]
  },
  {
   "cell_type": "code",
   "execution_count": 82,
   "metadata": {},
   "outputs": [],
   "source": [
    "# f1=driver.find_elements_by_class_name(\"nav-item\")[3]"
   ]
  },
  {
   "cell_type": "code",
   "execution_count": 83,
   "metadata": {},
   "outputs": [],
   "source": [
    "# d=f1.find_element_by_tag_name(\"a\").get_property('href')"
   ]
  },
  {
   "cell_type": "code",
   "execution_count": 223,
   "metadata": {},
   "outputs": [],
   "source": [
    "# q1=driver.find_elements_by_class_name(\"company-name-container\")[0]"
   ]
  },
  {
   "cell_type": "code",
   "execution_count": 196,
   "metadata": {},
   "outputs": [],
   "source": []
  },
  {
   "cell_type": "code",
   "execution_count": 226,
   "metadata": {},
   "outputs": [],
   "source": [
    "# name=q1.find_element_by_tag_name(\"a\").get_property('href')"
   ]
  },
  {
   "cell_type": "code",
   "execution_count": null,
   "metadata": {},
   "outputs": [],
   "source": [
    "# /html/body/div[2]/div[3]/div[2]/div[2]/div[1]/div/div[1]/div[1]/div[2]/div/div[2]/div[1]/div/a\n",
    "# # /html/body/div[4]/div[3]/div[2]/div/div/div/div/div[2]/div/div[2]/table/tr[1]/td/div/a"
   ]
  },
  {
   "cell_type": "code",
   "execution_count": null,
   "metadata": {},
   "outputs": [],
   "source": [
    "# /html/body/div[2]/div[3]/div[1]/div/div[3]/div/div/ul/li[4]/a/div/div/span\n",
    "# /html/body/div[4]/div[2]/div/div/div[1]/div/div[4]/div/div/ul/li[4]/a/div/div/span"
   ]
  }
 ],
 "metadata": {
  "kernelspec": {
   "display_name": "Python 3",
   "language": "python",
   "name": "python3"
  },
  "language_info": {
   "codemirror_mode": {
    "name": "ipython",
    "version": 3
   },
   "file_extension": ".py",
   "mimetype": "text/x-python",
   "name": "python",
   "nbconvert_exporter": "python",
   "pygments_lexer": "ipython3",
   "version": "3.7.1"
  }
 },
 "nbformat": 4,
 "nbformat_minor": 2
}
